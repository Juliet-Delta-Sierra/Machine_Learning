{
  "nbformat": 4,
  "nbformat_minor": 0,
  "metadata": {
    "colab": {
      "provenance": []
    },
    "kernelspec": {
      "name": "python3",
      "display_name": "Python 3"
    },
    "language_info": {
      "name": "python"
    }
  },
  "cells": [
    {
      "cell_type": "markdown",
      "source": [],
      "metadata": {
        "id": "rtRNwRJoEXQc"
      }
    },
    {
      "cell_type": "markdown",
      "source": [
        "Jacob Simmons, Machine Learning Project, 11 Nov 2023\n",
        "\n",
        "Using a \"Duke GPA\" dataset provided on Kaggle.com\n",
        "\n",
        "---\n",
        "# **Project Outline**\n",
        "* Data cleaning and formatting\n",
        "* Exploratory data analysis\n",
        "* Feature engineering and selection\n",
        "* Compare several machine learning models on a performance metric\n",
        "* Perform hyperparameter tuning on the best model\n",
        "* Evaluate the best model on the testing set\n",
        "* Interpret the model results\n",
        "* Draw conclusions and document work\n",
        "---\n",
        "Thanks to the below example for providing the outline and guidance for this project. [Example](https://towardsdatascience.com/a-complete-machine-learning-project-walk-through-in-python-part-two-300f1f8147e2)\n",
        "\n",
        "---\n",
        "\n",
        "# Goal\n",
        "Train model to predict GPA based on number of hours studied each week, number of hours sleep, gender, and how many nights they go out.\n",
        "\n",
        "\n",
        "**Response**\n",
        "*   GPA\n",
        "\n",
        "\n",
        "**Factors**\n",
        "\n",
        "\n",
        "*   No. of hours slept (float)\n",
        "*   No. of hours studied each week (int)\n",
        "* Nights out / not studying during sample period (float)\n",
        "* Gender (0 = Female, 1 = Male, float)\n",
        "\n",
        "\n"
      ],
      "metadata": {
        "id": "wz4d39X69X7m"
      }
    },
    {
      "cell_type": "code",
      "source": [
        "import pandas as pd\n",
        "import numpy as np\n",
        "import matplotlib.pyplot as plt\n",
        "import seaborn as sns\n",
        "import scipy.stats as stats\n",
        "\n",
        "#Read in data into a dataframe\n",
        "data = pd.read_csv('/content/sample_data/gpa.csv')\n",
        "\n",
        "#Display first 15 lines in dataframe\n",
        "data.head(15)\n"
      ],
      "metadata": {
        "colab": {
          "base_uri": "https://localhost:8080/",
          "height": 520
        },
        "id": "9OYfThNn52iJ",
        "outputId": "cfeb2ee2-920d-4648-e897-897a1e9feea7"
      },
      "execution_count": 1,
      "outputs": [
        {
          "output_type": "execute_result",
          "data": {
            "text/plain": [
              "      gpa  studyweek  sleepnight  out  gender\n",
              "0   3.890         50         6.0  3.0  female\n",
              "1   3.900         15         6.0  1.0  female\n",
              "2   3.750         15         7.0  1.0  female\n",
              "3   3.600         10         6.0  4.0    male\n",
              "4   4.000         25         7.0  3.0  female\n",
              "5   3.150         20         7.0  3.0    male\n",
              "6   3.250         15         6.0  1.0  female\n",
              "7   3.925         10         8.0  3.0  female\n",
              "8   3.428         12         8.0  2.0  female\n",
              "9   3.800          2         8.0  4.0    male\n",
              "10  3.900         10         8.0  1.0  female\n",
              "11  2.900         30         6.0  2.0  female\n",
              "12  3.925         30         7.0  2.0  female\n",
              "13  3.650         21         9.0  3.0  female\n",
              "14  3.750         10         8.5  3.5  female"
            ],
            "text/html": [
              "\n",
              "  <div id=\"df-d8688049-e9d2-4e9d-ab16-c0771e95cc22\" class=\"colab-df-container\">\n",
              "    <div>\n",
              "<style scoped>\n",
              "    .dataframe tbody tr th:only-of-type {\n",
              "        vertical-align: middle;\n",
              "    }\n",
              "\n",
              "    .dataframe tbody tr th {\n",
              "        vertical-align: top;\n",
              "    }\n",
              "\n",
              "    .dataframe thead th {\n",
              "        text-align: right;\n",
              "    }\n",
              "</style>\n",
              "<table border=\"1\" class=\"dataframe\">\n",
              "  <thead>\n",
              "    <tr style=\"text-align: right;\">\n",
              "      <th></th>\n",
              "      <th>gpa</th>\n",
              "      <th>studyweek</th>\n",
              "      <th>sleepnight</th>\n",
              "      <th>out</th>\n",
              "      <th>gender</th>\n",
              "    </tr>\n",
              "  </thead>\n",
              "  <tbody>\n",
              "    <tr>\n",
              "      <th>0</th>\n",
              "      <td>3.890</td>\n",
              "      <td>50</td>\n",
              "      <td>6.0</td>\n",
              "      <td>3.0</td>\n",
              "      <td>female</td>\n",
              "    </tr>\n",
              "    <tr>\n",
              "      <th>1</th>\n",
              "      <td>3.900</td>\n",
              "      <td>15</td>\n",
              "      <td>6.0</td>\n",
              "      <td>1.0</td>\n",
              "      <td>female</td>\n",
              "    </tr>\n",
              "    <tr>\n",
              "      <th>2</th>\n",
              "      <td>3.750</td>\n",
              "      <td>15</td>\n",
              "      <td>7.0</td>\n",
              "      <td>1.0</td>\n",
              "      <td>female</td>\n",
              "    </tr>\n",
              "    <tr>\n",
              "      <th>3</th>\n",
              "      <td>3.600</td>\n",
              "      <td>10</td>\n",
              "      <td>6.0</td>\n",
              "      <td>4.0</td>\n",
              "      <td>male</td>\n",
              "    </tr>\n",
              "    <tr>\n",
              "      <th>4</th>\n",
              "      <td>4.000</td>\n",
              "      <td>25</td>\n",
              "      <td>7.0</td>\n",
              "      <td>3.0</td>\n",
              "      <td>female</td>\n",
              "    </tr>\n",
              "    <tr>\n",
              "      <th>5</th>\n",
              "      <td>3.150</td>\n",
              "      <td>20</td>\n",
              "      <td>7.0</td>\n",
              "      <td>3.0</td>\n",
              "      <td>male</td>\n",
              "    </tr>\n",
              "    <tr>\n",
              "      <th>6</th>\n",
              "      <td>3.250</td>\n",
              "      <td>15</td>\n",
              "      <td>6.0</td>\n",
              "      <td>1.0</td>\n",
              "      <td>female</td>\n",
              "    </tr>\n",
              "    <tr>\n",
              "      <th>7</th>\n",
              "      <td>3.925</td>\n",
              "      <td>10</td>\n",
              "      <td>8.0</td>\n",
              "      <td>3.0</td>\n",
              "      <td>female</td>\n",
              "    </tr>\n",
              "    <tr>\n",
              "      <th>8</th>\n",
              "      <td>3.428</td>\n",
              "      <td>12</td>\n",
              "      <td>8.0</td>\n",
              "      <td>2.0</td>\n",
              "      <td>female</td>\n",
              "    </tr>\n",
              "    <tr>\n",
              "      <th>9</th>\n",
              "      <td>3.800</td>\n",
              "      <td>2</td>\n",
              "      <td>8.0</td>\n",
              "      <td>4.0</td>\n",
              "      <td>male</td>\n",
              "    </tr>\n",
              "    <tr>\n",
              "      <th>10</th>\n",
              "      <td>3.900</td>\n",
              "      <td>10</td>\n",
              "      <td>8.0</td>\n",
              "      <td>1.0</td>\n",
              "      <td>female</td>\n",
              "    </tr>\n",
              "    <tr>\n",
              "      <th>11</th>\n",
              "      <td>2.900</td>\n",
              "      <td>30</td>\n",
              "      <td>6.0</td>\n",
              "      <td>2.0</td>\n",
              "      <td>female</td>\n",
              "    </tr>\n",
              "    <tr>\n",
              "      <th>12</th>\n",
              "      <td>3.925</td>\n",
              "      <td>30</td>\n",
              "      <td>7.0</td>\n",
              "      <td>2.0</td>\n",
              "      <td>female</td>\n",
              "    </tr>\n",
              "    <tr>\n",
              "      <th>13</th>\n",
              "      <td>3.650</td>\n",
              "      <td>21</td>\n",
              "      <td>9.0</td>\n",
              "      <td>3.0</td>\n",
              "      <td>female</td>\n",
              "    </tr>\n",
              "    <tr>\n",
              "      <th>14</th>\n",
              "      <td>3.750</td>\n",
              "      <td>10</td>\n",
              "      <td>8.5</td>\n",
              "      <td>3.5</td>\n",
              "      <td>female</td>\n",
              "    </tr>\n",
              "  </tbody>\n",
              "</table>\n",
              "</div>\n",
              "    <div class=\"colab-df-buttons\">\n",
              "\n",
              "  <div class=\"colab-df-container\">\n",
              "    <button class=\"colab-df-convert\" onclick=\"convertToInteractive('df-d8688049-e9d2-4e9d-ab16-c0771e95cc22')\"\n",
              "            title=\"Convert this dataframe to an interactive table.\"\n",
              "            style=\"display:none;\">\n",
              "\n",
              "  <svg xmlns=\"http://www.w3.org/2000/svg\" height=\"24px\" viewBox=\"0 -960 960 960\">\n",
              "    <path d=\"M120-120v-720h720v720H120Zm60-500h600v-160H180v160Zm220 220h160v-160H400v160Zm0 220h160v-160H400v160ZM180-400h160v-160H180v160Zm440 0h160v-160H620v160ZM180-180h160v-160H180v160Zm440 0h160v-160H620v160Z\"/>\n",
              "  </svg>\n",
              "    </button>\n",
              "\n",
              "  <style>\n",
              "    .colab-df-container {\n",
              "      display:flex;\n",
              "      gap: 12px;\n",
              "    }\n",
              "\n",
              "    .colab-df-convert {\n",
              "      background-color: #E8F0FE;\n",
              "      border: none;\n",
              "      border-radius: 50%;\n",
              "      cursor: pointer;\n",
              "      display: none;\n",
              "      fill: #1967D2;\n",
              "      height: 32px;\n",
              "      padding: 0 0 0 0;\n",
              "      width: 32px;\n",
              "    }\n",
              "\n",
              "    .colab-df-convert:hover {\n",
              "      background-color: #E2EBFA;\n",
              "      box-shadow: 0px 1px 2px rgba(60, 64, 67, 0.3), 0px 1px 3px 1px rgba(60, 64, 67, 0.15);\n",
              "      fill: #174EA6;\n",
              "    }\n",
              "\n",
              "    .colab-df-buttons div {\n",
              "      margin-bottom: 4px;\n",
              "    }\n",
              "\n",
              "    [theme=dark] .colab-df-convert {\n",
              "      background-color: #3B4455;\n",
              "      fill: #D2E3FC;\n",
              "    }\n",
              "\n",
              "    [theme=dark] .colab-df-convert:hover {\n",
              "      background-color: #434B5C;\n",
              "      box-shadow: 0px 1px 3px 1px rgba(0, 0, 0, 0.15);\n",
              "      filter: drop-shadow(0px 1px 2px rgba(0, 0, 0, 0.3));\n",
              "      fill: #FFFFFF;\n",
              "    }\n",
              "  </style>\n",
              "\n",
              "    <script>\n",
              "      const buttonEl =\n",
              "        document.querySelector('#df-d8688049-e9d2-4e9d-ab16-c0771e95cc22 button.colab-df-convert');\n",
              "      buttonEl.style.display =\n",
              "        google.colab.kernel.accessAllowed ? 'block' : 'none';\n",
              "\n",
              "      async function convertToInteractive(key) {\n",
              "        const element = document.querySelector('#df-d8688049-e9d2-4e9d-ab16-c0771e95cc22');\n",
              "        const dataTable =\n",
              "          await google.colab.kernel.invokeFunction('convertToInteractive',\n",
              "                                                    [key], {});\n",
              "        if (!dataTable) return;\n",
              "\n",
              "        const docLinkHtml = 'Like what you see? Visit the ' +\n",
              "          '<a target=\"_blank\" href=https://colab.research.google.com/notebooks/data_table.ipynb>data table notebook</a>'\n",
              "          + ' to learn more about interactive tables.';\n",
              "        element.innerHTML = '';\n",
              "        dataTable['output_type'] = 'display_data';\n",
              "        await google.colab.output.renderOutput(dataTable, element);\n",
              "        const docLink = document.createElement('div');\n",
              "        docLink.innerHTML = docLinkHtml;\n",
              "        element.appendChild(docLink);\n",
              "      }\n",
              "    </script>\n",
              "  </div>\n",
              "\n",
              "\n",
              "<div id=\"df-67a8a455-cab6-4a18-9d65-5652429cf087\">\n",
              "  <button class=\"colab-df-quickchart\" onclick=\"quickchart('df-67a8a455-cab6-4a18-9d65-5652429cf087')\"\n",
              "            title=\"Suggest charts\"\n",
              "            style=\"display:none;\">\n",
              "\n",
              "<svg xmlns=\"http://www.w3.org/2000/svg\" height=\"24px\"viewBox=\"0 0 24 24\"\n",
              "     width=\"24px\">\n",
              "    <g>\n",
              "        <path d=\"M19 3H5c-1.1 0-2 .9-2 2v14c0 1.1.9 2 2 2h14c1.1 0 2-.9 2-2V5c0-1.1-.9-2-2-2zM9 17H7v-7h2v7zm4 0h-2V7h2v10zm4 0h-2v-4h2v4z\"/>\n",
              "    </g>\n",
              "</svg>\n",
              "  </button>\n",
              "\n",
              "<style>\n",
              "  .colab-df-quickchart {\n",
              "      --bg-color: #E8F0FE;\n",
              "      --fill-color: #1967D2;\n",
              "      --hover-bg-color: #E2EBFA;\n",
              "      --hover-fill-color: #174EA6;\n",
              "      --disabled-fill-color: #AAA;\n",
              "      --disabled-bg-color: #DDD;\n",
              "  }\n",
              "\n",
              "  [theme=dark] .colab-df-quickchart {\n",
              "      --bg-color: #3B4455;\n",
              "      --fill-color: #D2E3FC;\n",
              "      --hover-bg-color: #434B5C;\n",
              "      --hover-fill-color: #FFFFFF;\n",
              "      --disabled-bg-color: #3B4455;\n",
              "      --disabled-fill-color: #666;\n",
              "  }\n",
              "\n",
              "  .colab-df-quickchart {\n",
              "    background-color: var(--bg-color);\n",
              "    border: none;\n",
              "    border-radius: 50%;\n",
              "    cursor: pointer;\n",
              "    display: none;\n",
              "    fill: var(--fill-color);\n",
              "    height: 32px;\n",
              "    padding: 0;\n",
              "    width: 32px;\n",
              "  }\n",
              "\n",
              "  .colab-df-quickchart:hover {\n",
              "    background-color: var(--hover-bg-color);\n",
              "    box-shadow: 0 1px 2px rgba(60, 64, 67, 0.3), 0 1px 3px 1px rgba(60, 64, 67, 0.15);\n",
              "    fill: var(--button-hover-fill-color);\n",
              "  }\n",
              "\n",
              "  .colab-df-quickchart-complete:disabled,\n",
              "  .colab-df-quickchart-complete:disabled:hover {\n",
              "    background-color: var(--disabled-bg-color);\n",
              "    fill: var(--disabled-fill-color);\n",
              "    box-shadow: none;\n",
              "  }\n",
              "\n",
              "  .colab-df-spinner {\n",
              "    border: 2px solid var(--fill-color);\n",
              "    border-color: transparent;\n",
              "    border-bottom-color: var(--fill-color);\n",
              "    animation:\n",
              "      spin 1s steps(1) infinite;\n",
              "  }\n",
              "\n",
              "  @keyframes spin {\n",
              "    0% {\n",
              "      border-color: transparent;\n",
              "      border-bottom-color: var(--fill-color);\n",
              "      border-left-color: var(--fill-color);\n",
              "    }\n",
              "    20% {\n",
              "      border-color: transparent;\n",
              "      border-left-color: var(--fill-color);\n",
              "      border-top-color: var(--fill-color);\n",
              "    }\n",
              "    30% {\n",
              "      border-color: transparent;\n",
              "      border-left-color: var(--fill-color);\n",
              "      border-top-color: var(--fill-color);\n",
              "      border-right-color: var(--fill-color);\n",
              "    }\n",
              "    40% {\n",
              "      border-color: transparent;\n",
              "      border-right-color: var(--fill-color);\n",
              "      border-top-color: var(--fill-color);\n",
              "    }\n",
              "    60% {\n",
              "      border-color: transparent;\n",
              "      border-right-color: var(--fill-color);\n",
              "    }\n",
              "    80% {\n",
              "      border-color: transparent;\n",
              "      border-right-color: var(--fill-color);\n",
              "      border-bottom-color: var(--fill-color);\n",
              "    }\n",
              "    90% {\n",
              "      border-color: transparent;\n",
              "      border-bottom-color: var(--fill-color);\n",
              "    }\n",
              "  }\n",
              "</style>\n",
              "\n",
              "  <script>\n",
              "    async function quickchart(key) {\n",
              "      const quickchartButtonEl =\n",
              "        document.querySelector('#' + key + ' button');\n",
              "      quickchartButtonEl.disabled = true;  // To prevent multiple clicks.\n",
              "      quickchartButtonEl.classList.add('colab-df-spinner');\n",
              "      try {\n",
              "        const charts = await google.colab.kernel.invokeFunction(\n",
              "            'suggestCharts', [key], {});\n",
              "      } catch (error) {\n",
              "        console.error('Error during call to suggestCharts:', error);\n",
              "      }\n",
              "      quickchartButtonEl.classList.remove('colab-df-spinner');\n",
              "      quickchartButtonEl.classList.add('colab-df-quickchart-complete');\n",
              "    }\n",
              "    (() => {\n",
              "      let quickchartButtonEl =\n",
              "        document.querySelector('#df-67a8a455-cab6-4a18-9d65-5652429cf087 button');\n",
              "      quickchartButtonEl.style.display =\n",
              "        google.colab.kernel.accessAllowed ? 'block' : 'none';\n",
              "    })();\n",
              "  </script>\n",
              "</div>\n",
              "    </div>\n",
              "  </div>\n"
            ]
          },
          "metadata": {},
          "execution_count": 1
        }
      ]
    },
    {
      "cell_type": "markdown",
      "source": [
        "---\n",
        "# Data cleaning and formatting\n"
      ],
      "metadata": {
        "id": "8TdPqqSVJnLN"
      }
    },
    {
      "cell_type": "code",
      "source": [
        "#See the column data types and non-missing values\n",
        "data.info()"
      ],
      "metadata": {
        "colab": {
          "base_uri": "https://localhost:8080/",
          "height": 0
        },
        "id": "7knx6kdZ7LDi",
        "outputId": "a31d8645-8473-4519-b690-f250ae1a254f"
      },
      "execution_count": 2,
      "outputs": [
        {
          "output_type": "stream",
          "name": "stdout",
          "text": [
            "<class 'pandas.core.frame.DataFrame'>\n",
            "RangeIndex: 55 entries, 0 to 54\n",
            "Data columns (total 5 columns):\n",
            " #   Column      Non-Null Count  Dtype  \n",
            "---  ------      --------------  -----  \n",
            " 0   gpa         55 non-null     float64\n",
            " 1   studyweek   55 non-null     int64  \n",
            " 2   sleepnight  55 non-null     float64\n",
            " 3   out         55 non-null     float64\n",
            " 4   gender      55 non-null     object \n",
            "dtypes: float64(3), int64(1), object(1)\n",
            "memory usage: 2.3+ KB\n"
          ]
        }
      ]
    },
    {
      "cell_type": "markdown",
      "source": [
        "The above info indicates the \"gender\" data type is an object. This cannot be processed and needs to be changed to a data type that can be processed in the hereafter machine learning models.\n",
        "\n",
        "Therefore \"Female\" will be transferred to 0 and Male will be transferred to 1. This will allow the model to process the input factor appropriately."
      ],
      "metadata": {
        "id": "PqnNBYnM73OJ"
      }
    },
    {
      "cell_type": "code",
      "source": [
        "#Replace instances\n",
        "data_mod1 = data.replace({\"female\": 0, \"male\": 1})\n"
      ],
      "metadata": {
        "id": "9NVEz7x1936o"
      },
      "execution_count": 3,
      "outputs": []
    },
    {
      "cell_type": "code",
      "source": [
        "#Check data types after change\n",
        "data_mod1.info()\n"
      ],
      "metadata": {
        "colab": {
          "base_uri": "https://localhost:8080/",
          "height": 0
        },
        "id": "sR3wmBTmE7to",
        "outputId": "689e53e1-6ca3-4a68-afd9-599cc16c2698"
      },
      "execution_count": 4,
      "outputs": [
        {
          "output_type": "stream",
          "name": "stdout",
          "text": [
            "<class 'pandas.core.frame.DataFrame'>\n",
            "RangeIndex: 55 entries, 0 to 54\n",
            "Data columns (total 5 columns):\n",
            " #   Column      Non-Null Count  Dtype  \n",
            "---  ------      --------------  -----  \n",
            " 0   gpa         55 non-null     float64\n",
            " 1   studyweek   55 non-null     int64  \n",
            " 2   sleepnight  55 non-null     float64\n",
            " 3   out         55 non-null     float64\n",
            " 4   gender      55 non-null     int64  \n",
            "dtypes: float64(3), int64(2)\n",
            "memory usage: 2.3 KB\n"
          ]
        }
      ]
    },
    {
      "cell_type": "markdown",
      "source": [
        "This indicates that data is of the correct data types for machine learning processing as well as all values are non-null (not blank).\n",
        "\n",
        "We will now move to the exploritory efforts."
      ],
      "metadata": {
        "id": "Bc9xxlzxJ8XP"
      }
    },
    {
      "cell_type": "markdown",
      "source": [
        "---\n",
        "# Exploratory data analysis & Feature engineering and selection"
      ],
      "metadata": {
        "id": "jXUJuYkcJ3JW"
      }
    },
    {
      "cell_type": "markdown",
      "source": [
        "**Analysis Plan**\n",
        "\n",
        "The below plan was established to help understand if engineered features could be established to help correlate the impact of the input factors on the intended response.\n",
        "\n",
        "Line|Exploration Task|Purpose|Result\n",
        "-----|-----------|---------------|---------------\n",
        "1|Correlation Heat Map|Determine if significant relationships exist between factors| TBD\n",
        "2|Box Plot GPA by Gender|Determine if GPA differences between genders are statistically significant|TBD\n",
        "3|Linear Regression Plot For GPA|Determine if meaningful relationships exist between factors|TBD\n",
        "\n",
        "\n",
        "The charts will now be generated in accordance with the above plan.\n"
      ],
      "metadata": {
        "id": "qB9mzclSIy-z"
      }
    },
    {
      "cell_type": "markdown",
      "source": [
        "**Correlation Heat Map**"
      ],
      "metadata": {
        "id": "49lvOfxHQOl3"
      }
    },
    {
      "cell_type": "code",
      "source": [
        "#Mask assigned to eliminate the \"mirror effect\" for the top part of the heatmap triangle - removes clutter\n",
        "mask = np.triu(np.ones_like(data_mod1.corr(), dtype=bool))\n",
        "\n",
        "#Heat map using the modified data frame for gender\n",
        "sns.heatmap(data_mod1.corr(),vmin=-1,vmax=1,mask=mask, annot=True).set(title=\"Combined Correlation Heat Map\")"
      ],
      "metadata": {
        "colab": {
          "base_uri": "https://localhost:8080/",
          "height": 470
        },
        "id": "kTqdjPveFCPT",
        "outputId": "5452be96-1303-4149-b47b-0b917bb2db09"
      },
      "execution_count": 5,
      "outputs": [
        {
          "output_type": "execute_result",
          "data": {
            "text/plain": [
              "[Text(0.5, 1.0, 'Combined Correlation Heat Map')]"
            ]
          },
          "metadata": {},
          "execution_count": 5
        },
        {
          "output_type": "display_data",
          "data": {
            "text/plain": [
              "<Figure size 640x480 with 2 Axes>"
            ],
            "image/png": "[encoded data removed]"
          },
          "metadata": {}
        }
      ]
    },
    {
      "cell_type": "code",
      "source": [
        "#Mask assigned to eliminate the \"mirror effect\" for the top part of the heatmap triangle - removes clutter\n",
        "mask = np.triu(np.ones_like(data_mod1[(data_mod1['gender']==0)].corr(), dtype=bool))\n",
        "\n",
        "#Heatmap to use the modified data frame for gender while only calling the data for Females\n",
        "sns.heatmap(data_mod1[(data_mod1['gender']==0)].corr(),vmin=-1,vmax=1,mask=mask, annot=True,cmap='PiYG').set(title=\"Female Correlation Heat Map\")"
      ],
      "metadata": {
        "colab": {
          "base_uri": "https://localhost:8080/",
          "height": 470
        },
        "id": "7B-wOoY_DmOX",
        "outputId": "09739fbc-002e-4244-d550-7c912521a87a"
      },
      "execution_count": 6,
      "outputs": [
        {
          "output_type": "execute_result",
          "data": {
            "text/plain": [
              "[Text(0.5, 1.0, 'Female Correlation Heat Map')]"
            ]
          },
          "metadata": {},
          "execution_count": 6
        },
        {
          "output_type": "display_data",
          "data": {
            "text/plain": [
              "<Figure size 640x480 with 2 Axes>"
            ],
            "image/png": "[encoded data removed]"
          },
          "metadata": {}
        }
      ]
    },
    {
      "cell_type": "code",
      "source": [
        "#Mask assigned to eliminate the \"mirror effect\" for the top part of the heatmap triangle - removes clutter\n",
        "mask = np.triu(np.ones_like(data_mod1[(data_mod1['gender']==1)].corr(), dtype=bool))\n",
        "\n",
        "#Heatmap to use the modified data frame for gender while only calling the data for Females\n",
        "sns.heatmap(data_mod1[(data_mod1['gender']==1)].corr(),vmin=-1,vmax=1,mask=mask, annot=True,cmap='BrBG').set(title=\"Male Correlation Heat Map\")\n"
      ],
      "metadata": {
        "colab": {
          "base_uri": "https://localhost:8080/",
          "height": 470
        },
        "id": "ewZ-6G3CFAax",
        "outputId": "5cadda99-a398-4e0f-a35d-42bf8052128d"
      },
      "execution_count": 7,
      "outputs": [
        {
          "output_type": "execute_result",
          "data": {
            "text/plain": [
              "[Text(0.5, 1.0, 'Male Correlation Heat Map')]"
            ]
          },
          "metadata": {},
          "execution_count": 7
        },
        {
          "output_type": "display_data",
          "data": {
            "text/plain": [
              "<Figure size 640x480 with 2 Axes>"
            ],
            "image/png": "[encoded data removed]"
          },
          "metadata": {}
        }
      ]
    },
    {
      "cell_type": "markdown",
      "source": [
        "The above heatmaps show $R^2$ values for each of the factors. $R^2$ values can provide an estimate of \"how well\" a change in one factor can affect another. This index generally ranges between 0-1 (1 being a very strong estimator/relationship, and 0 being a very weak estimator/relationship) and is used in-conjunction with other statistical tools to help make informed decisions.\n",
        "\n",
        "Looking at the \"Combined Correlation Heat Map\", most of the factors show low correlation, with the highest being +0.38, which is the number of nights out and the number of hours sleeping (more nights out *might* mean more time sleeping), but this is not an important factor to change GPA. The \"Female Correlation Heat Map\" shows this as the most important correlation factor at +0.44, but again, this is not important for the purposes of this study.\n",
        "\n",
        "Looking at the \"Male Correlation Heat Map\", most of the factors show low correlation, with the hightest being +0.62, which is the number of hours spent studying and the number of hours sleeping (sleeping more *might* mean more studying), again, not important for our purposes.\n"
      ],
      "metadata": {
        "id": "rN0Vea2SUrZ3"
      }
    },
    {
      "cell_type": "markdown",
      "source": [
        "**BoxPlot GPA by Gender**"
      ],
      "metadata": {
        "id": "tDH4f31wcwFX"
      }
    },
    {
      "cell_type": "code",
      "source": [
        "sns.boxplot(data=data, x='gender', y='gpa').set(title='GPA Box Plot')\n"
      ],
      "metadata": {
        "colab": {
          "base_uri": "https://localhost:8080/",
          "height": 490
        },
        "id": "YNXEeq9mD0nx",
        "outputId": "a27b3c1d-ddd3-4f8c-939e-f4ebfa73e50e"
      },
      "execution_count": 8,
      "outputs": [
        {
          "output_type": "execute_result",
          "data": {
            "text/plain": [
              "[Text(0.5, 1.0, 'GPA Box Plot')]"
            ]
          },
          "metadata": {},
          "execution_count": 8
        },
        {
          "output_type": "display_data",
          "data": {
            "text/plain": [
              "<Figure size 640x480 with 1 Axes>"
            ],
            "image/png": "[encoded data removed]"
          },
          "metadata": {}
        }
      ]
    },
    {
      "cell_type": "code",
      "source": [
        "sns.histplot(data=data, x = 'gpa', hue='gender',element='step').set(title='GPA Histogram')\n",
        "ax = sns.histplot(data=data, x = 'gpa', hue='gender',element='step')\n",
        "\n",
        "\n",
        "ax.text(3,14,\"Left Skewed\")\n",
        "ax.text(3,12,\"Male p.value = \")\n",
        "ax.text(3.45,12,\"{:.5f}\".format(round(stats.normaltest(data[(data['gender']=='male')]['gpa']).pvalue, 8)))\n",
        "ax.text(3.68,12,\"- Not Normally Distributed\")\n",
        "\n",
        "ax.text(3,11.2,\"Female p.value = \")\n",
        "ax.text(3.51,11.2,\"{:.5f}\".format(round(stats.normaltest(data[(data['gender']=='female')]['gpa']).pvalue, 8)))\n",
        "ax.text(3.74,11.2,\"-Normally Distributed\")\n"
      ],
      "metadata": {
        "colab": {
          "base_uri": "https://localhost:8080/",
          "height": 526
        },
        "id": "MHQWnk3FkzfV",
        "outputId": "43a7db19-cd3d-4f9b-e897-0ebace6604e0"
      },
      "execution_count": 9,
      "outputs": [
        {
          "output_type": "stream",
          "name": "stderr",
          "text": [
            "/usr/local/lib/python3.10/dist-packages/scipy/stats/_stats_py.py:1806: UserWarning: kurtosistest only valid for n>=20 ... continuing anyway, n=12\n",
            "  warnings.warn(\"kurtosistest only valid for n>=20 ... continuing \"\n"
          ]
        },
        {
          "output_type": "execute_result",
          "data": {
            "text/plain": [
              "Text(3.74, 11.2, '-Normally Distributed')"
            ]
          },
          "metadata": {},
          "execution_count": 9
        },
        {
          "output_type": "display_data",
          "data": {
            "text/plain": [
              "<Figure size 640x480 with 1 Axes>"
            ],
            "image/png": "[encoded data removed]"
          },
          "metadata": {}
        }
      ]
    },
    {
      "cell_type": "markdown",
      "source": [
        "Before understanding if the differences observed between the GPAs are statistically significant, the normality of the two gender gpa distributions should be understood. The above analysis indicates the male data is not normally distrubuted.\n",
        "\n",
        "Looking at the dataset, the dataset is small (Male n = 13), so caution should be used in fully utilizing this dataset.\n",
        "\n",
        "This would indicate the data needs to be transformed before a statistical difference can be determined. A common practice is to transform the data using Logarithmic, Square, or Reciprocal transformation."
      ],
      "metadata": {
        "id": "laEmIojmh7PO"
      }
    },
    {
      "cell_type": "code",
      "source": [
        "# Logarithm transformation\n",
        "male_transform = np.log10(data[(data['gender']=='male')]['gpa'])\n",
        "female_transform = np.log10(data[(data['gender']=='female')]['gpa'])\n",
        "\n",
        "#retest normality for male data after transformation\n",
        "print(\"Male p.value after Logarithm transformation:\", stats.normaltest(male_transform).pvalue)\n",
        "print(\"Female p.value after Logarithm transformation:\", stats.normaltest(female_transform).pvalue)\n",
        "\n",
        "# Square transformation\n",
        "male_transform = np.square(data[(data['gender']=='male')]['gpa'])\n",
        "female_transform = np.square(data[(data['gender']=='female')]['gpa'])\n",
        "\n",
        "#retest normality for male data after transformation\n",
        "print(\"Male p.value after square transformation:\", stats.normaltest(male_transform).pvalue)\n",
        "print(\"Female p.value after square transformation:\", stats.normaltest(female_transform).pvalue)\n",
        "\n",
        "# Reciprical transformation\n",
        "male_transform = np.reciprocal(data[(data['gender']=='male')]['gpa'])\n",
        "female_transform = np.reciprocal(data[(data['gender']=='female')]['gpa'])\n",
        "\n",
        "#retest normality for male data after transformation\n",
        "print(\"Male p.value after reciprocal transformation:\", stats.normaltest(male_transform).pvalue)\n",
        "print(\"Female p.value after reciprocal transformation:\", stats.normaltest(female_transform).pvalue)\n",
        "\n",
        "# Logarithm transformation\n",
        "male_transform = np.log10(data[(data['gender']=='male')]['gpa'])\n",
        "female_transform = np.log10(data[(data['gender']=='female')]['gpa'])\n",
        "\n",
        "#Run t-test with logarithm transformation data:\n",
        "print(\"T-Test Result Using Logarithm Data: \", stats.ttest_ind(a=male_transform, b=female_transform,equal_var=True).pvalue)"
      ],
      "metadata": {
        "colab": {
          "base_uri": "https://localhost:8080/",
          "height": 0
        },
        "id": "Kb6zXTSh51u0",
        "outputId": "a3eb2c93-ad58-4205-ab9a-039c8d3b6360"
      },
      "execution_count": 10,
      "outputs": [
        {
          "output_type": "stream",
          "name": "stdout",
          "text": [
            "Male p.value after Logarithm transformation: 0.027970978442275866\n",
            "Female p.value after Logarithm transformation: 0.06892880478622003\n",
            "Male p.value after square transformation: 0.0003684620607813871\n",
            "Female p.value after square transformation: 0.18130675950724842\n",
            "Male p.value after reciprocal transformation: 0.16223763286414422\n",
            "Female p.value after reciprocal transformation: 0.022267584341110737\n",
            "T-Test Result Using Logarithm Data:  0.5983351772246618\n"
          ]
        }
      ]
    },
    {
      "cell_type": "markdown",
      "source": [
        "Looking at the various transformation types applied equally to both datasets, none of them provide the perfect transformation (p.value > 0.05), therefore we will choose the best choice - Logarithm (Male p.value = 0.03, Female p.value = 0.07).\n",
        "\n",
        "Running the 2-way t-test for the Logarithm Transformation data, the results show a p-value of 0.598. **This indicates there is no statistical difference between the Male and Female GPA datasets given the limitations in the data and transformations.**"
      ],
      "metadata": {
        "id": "UPyB2tSYBuQx"
      }
    },
    {
      "cell_type": "markdown",
      "source": [
        "**Linear Regression Plot For GPA**"
      ],
      "metadata": {
        "id": "MJ4xNnxDEbiO"
      }
    },
    {
      "cell_type": "code",
      "source": [
        "sns.lmplot(data=data, x='studyweek', y='gpa', hue='gender',height=5).set(title='GPA vs Study Hours/Week')\n",
        "sns.lmplot(data=data, x='sleepnight', y='gpa', hue='gender',height=5).set(title='GPA vs Hours of Sleep/Night')\n",
        "sns.lmplot(data=data, x='out', y='gpa', hue='gender',height=5).set(title='GPA vs Night Out a Week')"
      ],
      "metadata": {
        "colab": {
          "base_uri": "https://localhost:8080/",
          "height": 1000
        },
        "id": "B-73RSM1c6TC",
        "outputId": "47c1a2c1-b8fd-48b2-8ab4-770fc2ff8273"
      },
      "execution_count": 11,
      "outputs": [
        {
          "output_type": "execute_result",
          "data": {
            "text/plain": [
              "<seaborn.axisgrid.FacetGrid at 0x7fc8dbd4ec20>"
            ]
          },
          "metadata": {},
          "execution_count": 11
        },
        {
          "output_type": "display_data",
          "data": {
            "text/plain": [
              "<Figure size 598x500 with 1 Axes>"
            ],
            "image/png": "[encoded data removed]"
          },
          "metadata": {}
        },
        {
          "output_type": "display_data",
          "data": {
            "text/plain": [
              "<Figure size 598x500 with 1 Axes>"
            ],
            "image/png": "[encoded data removed]"
          },
          "metadata": {}
        },
        {
          "output_type": "display_data",
          "data": {
            "text/plain": [
              "<Figure size 598x500 with 1 Axes>"
            ],
            "image/png": "[encoded data removed]"
          },
          "metadata": {}
        }
      ]
    },
    {
      "cell_type": "markdown",
      "source": [
        "Looking at the data above, the confidence intervals for each regression line is wide and shows little correlation between the factors - which matches our intial correlation matrix as above.\n",
        "\n",
        "**Analysis Results**\n",
        "\n",
        "Line|Exploration Task|Purpose|Result\n",
        "-----|-----------|---------------|---------------\n",
        "1|Correlation Heat Map|Determine if significant relationships exist between factors| No significant linear correlations exist in the dataset while linking Response to the provided input Factors\n",
        "2|Box Plot GPA by Gender|Determine if GPA differences between genders are statistically significant|After data transformation, there is no statistical differences between the genders\n",
        "3|Linear Regression Plot For GPA|Determine if meaningful relationships exist between factors| No meaningful linear correlations exist in the dataset while linking the Response to the provided input Factors\n",
        "\n",
        "\n",
        "**This would indicate using Machine Learning models which are non-linear might yield more accurate predictions.**"
      ],
      "metadata": {
        "id": "g6B64Ji_E2kn"
      }
    },
    {
      "cell_type": "markdown",
      "source": [
        "# Compare several machine learning models on a performance metric\n",
        "\n"
      ],
      "metadata": {
        "id": "LFoh7FsMXNK5"
      }
    },
    {
      "cell_type": "code",
      "source": [
        "#Apply Log function to all Feature/Label data to \"normalize the data\" for model processing\n",
        "features = data.copy()\n",
        "\n",
        "#Select the non-string columns\n",
        "numberic_subset = data.select_dtypes('number')\n",
        "\n",
        "#Generate logrithmic data for features using non-string columns\n",
        "for col in numberic_subset.columns:\n",
        "  #Exclude gpa data row\n",
        "  if col =='gpa':\n",
        "    next\n",
        "  else:\n",
        "    numberic_subset['log_' + col] = np.log10(numberic_subset[col])\n",
        "\n",
        "#Select the string columns after being converted to one-hot encoding\n",
        "categorical_subset = data_mod1['gender']\n",
        "\n",
        "#Join the above data subsets into a completed feature dataframe\n",
        "features = pd.concat([numberic_subset, categorical_subset], axis = 1)\n",
        "\n",
        "#Seperate the data into the Features and Labels data for model processing\n",
        "features = features.drop(columns='gpa')\n",
        "targets = data['gpa']\n",
        "\n",
        "#print(data.shape)\n",
        "#print(data.head())\n",
        "#print(features.shape)\n",
        "#print(features.head())\n",
        "#print(targets.shape)\n",
        "#targets.head()"
      ],
      "metadata": {
        "colab": {
          "base_uri": "https://localhost:8080/",
          "height": 0
        },
        "id": "HH_2bhNWbnvl",
        "outputId": "6df9c4e6-e904-4c57-bece-30a37e8f3938"
      },
      "execution_count": 12,
      "outputs": [
        {
          "output_type": "stream",
          "name": "stderr",
          "text": [
            "/usr/local/lib/python3.10/dist-packages/pandas/core/arraylike.py:402: RuntimeWarning: divide by zero encountered in log10\n",
            "  result = getattr(ufunc, method)(*inputs, **kwargs)\n"
          ]
        }
      ]
    },
    {
      "cell_type": "code",
      "source": [
        "from sklearn.model_selection import train_test_split\n",
        "#Split the data into 70% training and 30% testing subsets\n",
        "X, X_test, y, y_test = train_test_split(features, targets, test_size = 0.3, random_state = 42)"
      ],
      "metadata": {
        "id": "hoWdsbg7jOKg"
      },
      "execution_count": 13,
      "outputs": []
    },
    {
      "cell_type": "markdown",
      "source": [
        "The dataset will need to be further analysed to ensure the data integrity is solid. It is observed in the dataset that some \"inf\" exist in the data set, these need to be removed before Machine Learning can be started."
      ],
      "metadata": {
        "id": "aKHKd7b9c-DU"
      }
    },
    {
      "cell_type": "code",
      "source": [
        "print(X.info())\n",
        "print(X.shape)\n",
        "print(X.head(50))\n",
        "print(X_test.info())\n",
        "print(X_test.head(50))\n",
        "print(y.info())\n",
        "print(y.info(50))\n",
        "print(y_test.info())\n",
        "print(y_test.head(50))\n",
        "\n",
        "X.replace([np.inf, -np.inf], np.nan, inplace=True)\n",
        "X.dropna(subset=[\"log_out\"], how=\"all\", inplace=True)\n",
        "y=y.drop([0,1])\n",
        "#y.shape\n",
        "\n",
        "#print(X.info())\n",
        "#print(X.shape)\n",
        "#print(X.head(50))"
      ],
      "metadata": {
        "colab": {
          "base_uri": "https://localhost:8080/",
          "height": 0
        },
        "id": "Hpdv1i3CCbh0",
        "outputId": "9019cc6d-0c1e-41fe-948f-107f05c1515f"
      },
      "execution_count": 14,
      "outputs": [
        {
          "output_type": "stream",
          "name": "stdout",
          "text": [
            "<class 'pandas.core.frame.DataFrame'>\n",
            "Int64Index: 38 entries, 4 to 38\n",
            "Data columns (total 7 columns):\n",
            " #   Column          Non-Null Count  Dtype  \n",
            "---  ------          --------------  -----  \n",
            " 0   studyweek       38 non-null     int64  \n",
            " 1   sleepnight      38 non-null     float64\n",
            " 2   out             38 non-null     float64\n",
            " 3   log_studyweek   38 non-null     float64\n",
            " 4   log_sleepnight  38 non-null     float64\n",
            " 5   log_out         38 non-null     float64\n",
            " 6   gender          38 non-null     int64  \n",
            "dtypes: float64(5), int64(2)\n",
            "memory usage: 2.4 KB\n",
            "None\n",
            "(38, 7)\n",
            "    studyweek  sleepnight  out  log_studyweek  log_sleepnight   log_out  \\\n",
            "4          25         7.0  3.0       1.397940        0.845098  0.477121   \n",
            "47         25         8.0  2.0       1.397940        0.903090  0.301030   \n",
            "27         14         9.0  3.0       1.146128        0.954243  0.477121   \n",
            "46         42         9.0  2.0       1.623249        0.954243  0.301030   \n",
            "45          3         7.0  2.0       0.477121        0.845098  0.301030   \n",
            "53         30         7.5  1.5       1.477121        0.875061  0.176091   \n",
            "15         14         6.5  3.0       1.146128        0.812913  0.477121   \n",
            "9           2         8.0  4.0       0.301030        0.903090  0.602060   \n",
            "16         12         7.5  3.5       1.079181        0.875061  0.544068   \n",
            "24         35         8.0  4.0       1.544068        0.903090  0.602060   \n",
            "30          8         6.5  2.0       0.903090        0.812913  0.301030   \n",
            "37         15         6.0  1.0       1.176091        0.778151  0.000000   \n",
            "25         10         8.0  3.0       1.000000        0.903090  0.477121   \n",
            "11         30         6.0  2.0       1.477121        0.778151  0.301030   \n",
            "0          50         6.0  3.0       1.698970        0.778151  0.477121   \n",
            "48         20         6.0  2.0       1.301030        0.778151  0.301030   \n",
            "36         18         7.0  1.5       1.255273        0.845098  0.176091   \n",
            "29          8         6.0  0.0       0.903090        0.778151      -inf   \n",
            "40         28         6.0  1.5       1.447158        0.778151  0.176091   \n",
            "1          15         6.0  1.0       1.176091        0.778151  0.000000   \n",
            "21         10         7.0  3.0       1.000000        0.845098  0.477121   \n",
            "2          15         7.0  1.0       1.176091        0.845098  0.000000   \n",
            "50          6         8.0  1.0       0.778151        0.903090  0.000000   \n",
            "39         11         7.0  1.5       1.041393        0.845098  0.176091   \n",
            "35         10         7.0  2.0       1.000000        0.845098  0.301030   \n",
            "23         13         6.0  3.5       1.113943        0.778151  0.544068   \n",
            "44         42         5.0  1.0       1.623249        0.698970  0.000000   \n",
            "10         10         8.0  1.0       1.000000        0.903090  0.000000   \n",
            "22         12         8.0  2.0       1.079181        0.903090  0.301030   \n",
            "18          4         9.0  3.0       0.602060        0.954243  0.477121   \n",
            "54         20         6.0  3.0       1.301030        0.778151  0.477121   \n",
            "20          6         7.0  2.5       0.778151        0.845098  0.397940   \n",
            "7          10         8.0  3.0       1.000000        0.903090  0.477121   \n",
            "42          4         5.0  1.0       0.602060        0.698970  0.000000   \n",
            "14         10         8.5  3.5       1.000000        0.929419  0.544068   \n",
            "28         30         6.0  0.0       1.477121        0.778151      -inf   \n",
            "51         20         7.0  3.0       1.301030        0.845098  0.477121   \n",
            "38         30         8.0  3.0       1.477121        0.903090  0.477121   \n",
            "\n",
            "    gender  \n",
            "4        0  \n",
            "47       1  \n",
            "27       0  \n",
            "46       1  \n",
            "45       1  \n",
            "53       0  \n",
            "15       1  \n",
            "9        1  \n",
            "16       1  \n",
            "24       0  \n",
            "30       0  \n",
            "37       0  \n",
            "25       0  \n",
            "11       0  \n",
            "0        0  \n",
            "48       0  \n",
            "36       0  \n",
            "29       0  \n",
            "40       0  \n",
            "1        0  \n",
            "21       0  \n",
            "2        0  \n",
            "50       0  \n",
            "39       0  \n",
            "35       0  \n",
            "23       0  \n",
            "44       0  \n",
            "10       0  \n",
            "22       1  \n",
            "18       0  \n",
            "54       0  \n",
            "20       0  \n",
            "7        0  \n",
            "42       1  \n",
            "14       0  \n",
            "28       0  \n",
            "51       0  \n",
            "38       1  \n",
            "<class 'pandas.core.frame.DataFrame'>\n",
            "Int64Index: 17 entries, 31 to 6\n",
            "Data columns (total 7 columns):\n",
            " #   Column          Non-Null Count  Dtype  \n",
            "---  ------          --------------  -----  \n",
            " 0   studyweek       17 non-null     int64  \n",
            " 1   sleepnight      17 non-null     float64\n",
            " 2   out             17 non-null     float64\n",
            " 3   log_studyweek   17 non-null     float64\n",
            " 4   log_sleepnight  17 non-null     float64\n",
            " 5   log_out         17 non-null     float64\n",
            " 6   gender          17 non-null     int64  \n",
            "dtypes: float64(5), int64(2)\n",
            "memory usage: 1.1 KB\n",
            "None\n",
            "    studyweek  sleepnight  out  log_studyweek  log_sleepnight   log_out  \\\n",
            "31         20         7.0  1.0       1.301030        0.845098  0.000000   \n",
            "5          20         7.0  3.0       1.301030        0.845098  0.477121   \n",
            "32         40         7.0  1.0       1.602060        0.845098  0.000000   \n",
            "13         21         9.0  3.0       1.322219        0.954243  0.477121   \n",
            "19         45         6.5  1.5       1.653213        0.812913  0.176091   \n",
            "49          7         8.0  2.0       0.845098        0.903090  0.301030   \n",
            "41          4         7.0  1.5       0.602060        0.845098  0.176091   \n",
            "26         40         8.0  3.0       1.602060        0.903090  0.477121   \n",
            "43         25         7.5  2.5       1.397940        0.875061  0.397940   \n",
            "12         30         7.0  2.0       1.477121        0.845098  0.301030   \n",
            "52         45         6.0  2.0       1.653213        0.778151  0.301030   \n",
            "3          10         6.0  4.0       1.000000        0.778151  0.602060   \n",
            "33         15         7.0  1.5       1.176091        0.845098  0.176091   \n",
            "34         25         5.0  1.0       1.397940        0.698970  0.000000   \n",
            "8          12         8.0  2.0       1.079181        0.903090  0.301030   \n",
            "17         12         8.0  1.0       1.079181        0.903090  0.000000   \n",
            "6          15         6.0  1.0       1.176091        0.778151  0.000000   \n",
            "\n",
            "    gender  \n",
            "31       0  \n",
            "5        1  \n",
            "32       0  \n",
            "13       0  \n",
            "19       0  \n",
            "49       0  \n",
            "41       0  \n",
            "26       0  \n",
            "43       0  \n",
            "12       0  \n",
            "52       0  \n",
            "3        1  \n",
            "33       1  \n",
            "34       0  \n",
            "8        0  \n",
            "17       0  \n",
            "6        0  \n",
            "<class 'pandas.core.series.Series'>\n",
            "Int64Index: 38 entries, 4 to 38\n",
            "Series name: gpa\n",
            "Non-Null Count  Dtype  \n",
            "--------------  -----  \n",
            "38 non-null     float64\n",
            "dtypes: float64(1)\n",
            "memory usage: 608.0 bytes\n",
            "None\n",
            "<class 'pandas.core.series.Series'>\n",
            "Int64Index: 38 entries, 4 to 38\n",
            "Series name: gpa\n",
            "Non-Null Count  Dtype  \n",
            "--------------  -----  \n",
            "38 non-null     float64\n",
            "dtypes: float64(1)\n",
            "memory usage: 608.0 bytes\n",
            "None\n",
            "<class 'pandas.core.series.Series'>\n",
            "Int64Index: 17 entries, 31 to 6\n",
            "Series name: gpa\n",
            "Non-Null Count  Dtype  \n",
            "--------------  -----  \n",
            "17 non-null     float64\n",
            "dtypes: float64(1)\n",
            "memory usage: 272.0 bytes\n",
            "None\n",
            "31    3.700\n",
            "5     3.150\n",
            "32    3.360\n",
            "13    3.650\n",
            "19    3.575\n",
            "49    3.700\n",
            "41    3.980\n",
            "26    4.000\n",
            "43    3.810\n",
            "12    3.925\n",
            "52    3.350\n",
            "3     3.600\n",
            "33    3.700\n",
            "34    3.700\n",
            "8     3.428\n",
            "17    3.800\n",
            "6     3.250\n",
            "Name: gpa, dtype: float64\n"
          ]
        }
      ]
    },
    {
      "cell_type": "code",
      "source": [
        "# Function to calculate mean absolute error\n",
        "def mae(y_true, y_pred):\n",
        "    return np.mean(abs(y_true - y_pred))\n",
        "\n",
        "baseline_guess = np.median(y)\n",
        "\n",
        "print('The baseline guess is a score of %0.2f' % baseline_guess)\n",
        "print(\"Baseline Performance on the test set: MAE = %0.4f\" % mae(y_test, baseline_guess))"
      ],
      "metadata": {
        "colab": {
          "base_uri": "https://localhost:8080/",
          "height": 0
        },
        "id": "zO6lY0xw9np9",
        "outputId": "682b65b7-0efa-404e-af38-238dc4b9d431"
      },
      "execution_count": 15,
      "outputs": [
        {
          "output_type": "stream",
          "name": "stdout",
          "text": [
            "The baseline guess is a score of 3.57\n",
            "Baseline Performance on the test set: MAE = 0.2123\n"
          ]
        }
      ]
    },
    {
      "cell_type": "markdown",
      "source": [
        "This is the Mean Absolute Error (MAE) calculations, it shows our average estimate on the test set is off by 20 pts. The score being from 1-100 indicates that our average error is about 20%. This will serve as a baseline for testing with various Machine Learning Models."
      ],
      "metadata": {
        "id": "xahXAOo997BE"
      }
    },
    {
      "cell_type": "code",
      "source": [
        "# Create local files for training data\n",
        "X.to_csv('sample_data/training_features.csv', index = False)\n",
        "X_test.to_csv('sample_data/testing_features.csv', index = False)\n",
        "y.to_csv('sample_data/training_labels.csv', index = False)\n",
        "y_test.to_csv('sample_data/testing_labels.csv', index = False)"
      ],
      "metadata": {
        "id": "Ipfpxu45-fP0"
      },
      "execution_count": 16,
      "outputs": []
    },
    {
      "cell_type": "code",
      "source": [
        "# Imputing missing values and scaling values\n",
        "from sklearn.preprocessing import MinMaxScaler\n",
        "\n",
        "# Machine Learning Models\n",
        "from sklearn.linear_model import LinearRegression\n",
        "from sklearn.ensemble import RandomForestRegressor, GradientBoostingRegressor\n",
        "from sklearn.svm import SVR\n",
        "from sklearn.neighbors import KNeighborsRegressor\n",
        "\n",
        "# Hyperparameter tuning\n",
        "from sklearn.model_selection import RandomizedSearchCV, GridSearchCV"
      ],
      "metadata": {
        "id": "RIcTQ3E0_PRk"
      },
      "execution_count": 17,
      "outputs": []
    },
    {
      "cell_type": "code",
      "source": [
        "# Read in data into dataframes\n",
        "train_features = pd.read_csv('sample_data/training_features.csv')\n",
        "test_features = pd.read_csv('sample_data/testing_features.csv')\n",
        "train_labels = pd.read_csv('sample_data/training_labels.csv')\n",
        "test_labels = pd.read_csv('sample_data/testing_labels.csv')\n",
        "\n",
        "# Display sizes of data\n",
        "print('Training Feature Size: ', train_features.shape)\n",
        "print('Testing Feature Size:  ', test_features.shape)\n",
        "print('Training Labels Size:  ', train_labels.shape)\n",
        "print('Testing Labels Size:   ', test_labels.shape)"
      ],
      "metadata": {
        "colab": {
          "base_uri": "https://localhost:8080/",
          "height": 0
        },
        "id": "y9WRWBhE_QJj",
        "outputId": "e71a2935-7a36-405c-e1ad-fe593602fca3"
      },
      "execution_count": 18,
      "outputs": [
        {
          "output_type": "stream",
          "name": "stdout",
          "text": [
            "Training Feature Size:  (36, 7)\n",
            "Testing Feature Size:   (17, 7)\n",
            "Training Labels Size:   (36, 1)\n",
            "Testing Labels Size:    (17, 1)\n"
          ]
        }
      ]
    },
    {
      "cell_type": "code",
      "source": [
        "train_features.head(5)\n"
      ],
      "metadata": {
        "colab": {
          "base_uri": "https://localhost:8080/",
          "height": 206
        },
        "id": "H2Z8g2Yq_ruU",
        "outputId": "d808233f-043a-4768-e3d0-df564a160983"
      },
      "execution_count": 19,
      "outputs": [
        {
          "output_type": "execute_result",
          "data": {
            "text/plain": [
              "   studyweek  sleepnight  out  log_studyweek  log_sleepnight   log_out  gender\n",
              "0         25         7.0  3.0       1.397940        0.845098  0.477121       0\n",
              "1         25         8.0  2.0       1.397940        0.903090  0.301030       1\n",
              "2         14         9.0  3.0       1.146128        0.954243  0.477121       0\n",
              "3         42         9.0  2.0       1.623249        0.954243  0.301030       1\n",
              "4          3         7.0  2.0       0.477121        0.845098  0.301030       1"
            ],
            "text/html": [
              "\n",
              "  <div id=\"df-5fd4684e-4df9-4be0-a825-42c827f3c92b\" class=\"colab-df-container\">\n",
              "    <div>\n",
              "<style scoped>\n",
              "    .dataframe tbody tr th:only-of-type {\n",
              "        vertical-align: middle;\n",
              "    }\n",
              "\n",
              "    .dataframe tbody tr th {\n",
              "        vertical-align: top;\n",
              "    }\n",
              "\n",
              "    .dataframe thead th {\n",
              "        text-align: right;\n",
              "    }\n",
              "</style>\n",
              "<table border=\"1\" class=\"dataframe\">\n",
              "  <thead>\n",
              "    <tr style=\"text-align: right;\">\n",
              "      <th></th>\n",
              "      <th>studyweek</th>\n",
              "      <th>sleepnight</th>\n",
              "      <th>out</th>\n",
              "      <th>log_studyweek</th>\n",
              "      <th>log_sleepnight</th>\n",
              "      <th>log_out</th>\n",
              "      <th>gender</th>\n",
              "    </tr>\n",
              "  </thead>\n",
              "  <tbody>\n",
              "    <tr>\n",
              "      <th>0</th>\n",
              "      <td>25</td>\n",
              "      <td>7.0</td>\n",
              "      <td>3.0</td>\n",
              "      <td>1.397940</td>\n",
              "      <td>0.845098</td>\n",
              "      <td>0.477121</td>\n",
              "      <td>0</td>\n",
              "    </tr>\n",
              "    <tr>\n",
              "      <th>1</th>\n",
              "      <td>25</td>\n",
              "      <td>8.0</td>\n",
              "      <td>2.0</td>\n",
              "      <td>1.397940</td>\n",
              "      <td>0.903090</td>\n",
              "      <td>0.301030</td>\n",
              "      <td>1</td>\n",
              "    </tr>\n",
              "    <tr>\n",
              "      <th>2</th>\n",
              "      <td>14</td>\n",
              "      <td>9.0</td>\n",
              "      <td>3.0</td>\n",
              "      <td>1.146128</td>\n",
              "      <td>0.954243</td>\n",
              "      <td>0.477121</td>\n",
              "      <td>0</td>\n",
              "    </tr>\n",
              "    <tr>\n",
              "      <th>3</th>\n",
              "      <td>42</td>\n",
              "      <td>9.0</td>\n",
              "      <td>2.0</td>\n",
              "      <td>1.623249</td>\n",
              "      <td>0.954243</td>\n",
              "      <td>0.301030</td>\n",
              "      <td>1</td>\n",
              "    </tr>\n",
              "    <tr>\n",
              "      <th>4</th>\n",
              "      <td>3</td>\n",
              "      <td>7.0</td>\n",
              "      <td>2.0</td>\n",
              "      <td>0.477121</td>\n",
              "      <td>0.845098</td>\n",
              "      <td>0.301030</td>\n",
              "      <td>1</td>\n",
              "    </tr>\n",
              "  </tbody>\n",
              "</table>\n",
              "</div>\n",
              "    <div class=\"colab-df-buttons\">\n",
              "\n",
              "  <div class=\"colab-df-container\">\n",
              "    <button class=\"colab-df-convert\" onclick=\"convertToInteractive('df-5fd4684e-4df9-4be0-a825-42c827f3c92b')\"\n",
              "            title=\"Convert this dataframe to an interactive table.\"\n",
              "            style=\"display:none;\">\n",
              "\n",
              "  <svg xmlns=\"http://www.w3.org/2000/svg\" height=\"24px\" viewBox=\"0 -960 960 960\">\n",
              "    <path d=\"M120-120v-720h720v720H120Zm60-500h600v-160H180v160Zm220 220h160v-160H400v160Zm0 220h160v-160H400v160ZM180-400h160v-160H180v160Zm440 0h160v-160H620v160ZM180-180h160v-160H180v160Zm440 0h160v-160H620v160Z\"/>\n",
              "  </svg>\n",
              "    </button>\n",
              "\n",
              "  <style>\n",
              "    .colab-df-container {\n",
              "      display:flex;\n",
              "      gap: 12px;\n",
              "    }\n",
              "\n",
              "    .colab-df-convert {\n",
              "      background-color: #E8F0FE;\n",
              "      border: none;\n",
              "      border-radius: 50%;\n",
              "      cursor: pointer;\n",
              "      display: none;\n",
              "      fill: #1967D2;\n",
              "      height: 32px;\n",
              "      padding: 0 0 0 0;\n",
              "      width: 32px;\n",
              "    }\n",
              "\n",
              "    .colab-df-convert:hover {\n",
              "      background-color: #E2EBFA;\n",
              "      box-shadow: 0px 1px 2px rgba(60, 64, 67, 0.3), 0px 1px 3px 1px rgba(60, 64, 67, 0.15);\n",
              "      fill: #174EA6;\n",
              "    }\n",
              "\n",
              "    .colab-df-buttons div {\n",
              "      margin-bottom: 4px;\n",
              "    }\n",
              "\n",
              "    [theme=dark] .colab-df-convert {\n",
              "      background-color: #3B4455;\n",
              "      fill: #D2E3FC;\n",
              "    }\n",
              "\n",
              "    [theme=dark] .colab-df-convert:hover {\n",
              "      background-color: #434B5C;\n",
              "      box-shadow: 0px 1px 3px 1px rgba(0, 0, 0, 0.15);\n",
              "      filter: drop-shadow(0px 1px 2px rgba(0, 0, 0, 0.3));\n",
              "      fill: #FFFFFF;\n",
              "    }\n",
              "  </style>\n",
              "\n",
              "    <script>\n",
              "      const buttonEl =\n",
              "        document.querySelector('#df-5fd4684e-4df9-4be0-a825-42c827f3c92b button.colab-df-convert');\n",
              "      buttonEl.style.display =\n",
              "        google.colab.kernel.accessAllowed ? 'block' : 'none';\n",
              "\n",
              "      async function convertToInteractive(key) {\n",
              "        const element = document.querySelector('#df-5fd4684e-4df9-4be0-a825-42c827f3c92b');\n",
              "        const dataTable =\n",
              "          await google.colab.kernel.invokeFunction('convertToInteractive',\n",
              "                                                    [key], {});\n",
              "        if (!dataTable) return;\n",
              "\n",
              "        const docLinkHtml = 'Like what you see? Visit the ' +\n",
              "          '<a target=\"_blank\" href=https://colab.research.google.com/notebooks/data_table.ipynb>data table notebook</a>'\n",
              "          + ' to learn more about interactive tables.';\n",
              "        element.innerHTML = '';\n",
              "        dataTable['output_type'] = 'display_data';\n",
              "        await google.colab.output.renderOutput(dataTable, element);\n",
              "        const docLink = document.createElement('div');\n",
              "        docLink.innerHTML = docLinkHtml;\n",
              "        element.appendChild(docLink);\n",
              "      }\n",
              "    </script>\n",
              "  </div>\n",
              "\n",
              "\n",
              "<div id=\"df-df6595be-ac1e-4557-a66d-40db9b249664\">\n",
              "  <button class=\"colab-df-quickchart\" onclick=\"quickchart('df-df6595be-ac1e-4557-a66d-40db9b249664')\"\n",
              "            title=\"Suggest charts\"\n",
              "            style=\"display:none;\">\n",
              "\n",
              "<svg xmlns=\"http://www.w3.org/2000/svg\" height=\"24px\"viewBox=\"0 0 24 24\"\n",
              "     width=\"24px\">\n",
              "    <g>\n",
              "        <path d=\"M19 3H5c-1.1 0-2 .9-2 2v14c0 1.1.9 2 2 2h14c1.1 0 2-.9 2-2V5c0-1.1-.9-2-2-2zM9 17H7v-7h2v7zm4 0h-2V7h2v10zm4 0h-2v-4h2v4z\"/>\n",
              "    </g>\n",
              "</svg>\n",
              "  </button>\n",
              "\n",
              "<style>\n",
              "  .colab-df-quickchart {\n",
              "      --bg-color: #E8F0FE;\n",
              "      --fill-color: #1967D2;\n",
              "      --hover-bg-color: #E2EBFA;\n",
              "      --hover-fill-color: #174EA6;\n",
              "      --disabled-fill-color: #AAA;\n",
              "      --disabled-bg-color: #DDD;\n",
              "  }\n",
              "\n",
              "  [theme=dark] .colab-df-quickchart {\n",
              "      --bg-color: #3B4455;\n",
              "      --fill-color: #D2E3FC;\n",
              "      --hover-bg-color: #434B5C;\n",
              "      --hover-fill-color: #FFFFFF;\n",
              "      --disabled-bg-color: #3B4455;\n",
              "      --disabled-fill-color: #666;\n",
              "  }\n",
              "\n",
              "  .colab-df-quickchart {\n",
              "    background-color: var(--bg-color);\n",
              "    border: none;\n",
              "    border-radius: 50%;\n",
              "    cursor: pointer;\n",
              "    display: none;\n",
              "    fill: var(--fill-color);\n",
              "    height: 32px;\n",
              "    padding: 0;\n",
              "    width: 32px;\n",
              "  }\n",
              "\n",
              "  .colab-df-quickchart:hover {\n",
              "    background-color: var(--hover-bg-color);\n",
              "    box-shadow: 0 1px 2px rgba(60, 64, 67, 0.3), 0 1px 3px 1px rgba(60, 64, 67, 0.15);\n",
              "    fill: var(--button-hover-fill-color);\n",
              "  }\n",
              "\n",
              "  .colab-df-quickchart-complete:disabled,\n",
              "  .colab-df-quickchart-complete:disabled:hover {\n",
              "    background-color: var(--disabled-bg-color);\n",
              "    fill: var(--disabled-fill-color);\n",
              "    box-shadow: none;\n",
              "  }\n",
              "\n",
              "  .colab-df-spinner {\n",
              "    border: 2px solid var(--fill-color);\n",
              "    border-color: transparent;\n",
              "    border-bottom-color: var(--fill-color);\n",
              "    animation:\n",
              "      spin 1s steps(1) infinite;\n",
              "  }\n",
              "\n",
              "  @keyframes spin {\n",
              "    0% {\n",
              "      border-color: transparent;\n",
              "      border-bottom-color: var(--fill-color);\n",
              "      border-left-color: var(--fill-color);\n",
              "    }\n",
              "    20% {\n",
              "      border-color: transparent;\n",
              "      border-left-color: var(--fill-color);\n",
              "      border-top-color: var(--fill-color);\n",
              "    }\n",
              "    30% {\n",
              "      border-color: transparent;\n",
              "      border-left-color: var(--fill-color);\n",
              "      border-top-color: var(--fill-color);\n",
              "      border-right-color: var(--fill-color);\n",
              "    }\n",
              "    40% {\n",
              "      border-color: transparent;\n",
              "      border-right-color: var(--fill-color);\n",
              "      border-top-color: var(--fill-color);\n",
              "    }\n",
              "    60% {\n",
              "      border-color: transparent;\n",
              "      border-right-color: var(--fill-color);\n",
              "    }\n",
              "    80% {\n",
              "      border-color: transparent;\n",
              "      border-right-color: var(--fill-color);\n",
              "      border-bottom-color: var(--fill-color);\n",
              "    }\n",
              "    90% {\n",
              "      border-color: transparent;\n",
              "      border-bottom-color: var(--fill-color);\n",
              "    }\n",
              "  }\n",
              "</style>\n",
              "\n",
              "  <script>\n",
              "    async function quickchart(key) {\n",
              "      const quickchartButtonEl =\n",
              "        document.querySelector('#' + key + ' button');\n",
              "      quickchartButtonEl.disabled = true;  // To prevent multiple clicks.\n",
              "      quickchartButtonEl.classList.add('colab-df-spinner');\n",
              "      try {\n",
              "        const charts = await google.colab.kernel.invokeFunction(\n",
              "            'suggestCharts', [key], {});\n",
              "      } catch (error) {\n",
              "        console.error('Error during call to suggestCharts:', error);\n",
              "      }\n",
              "      quickchartButtonEl.classList.remove('colab-df-spinner');\n",
              "      quickchartButtonEl.classList.add('colab-df-quickchart-complete');\n",
              "    }\n",
              "    (() => {\n",
              "      let quickchartButtonEl =\n",
              "        document.querySelector('#df-df6595be-ac1e-4557-a66d-40db9b249664 button');\n",
              "      quickchartButtonEl.style.display =\n",
              "        google.colab.kernel.accessAllowed ? 'block' : 'none';\n",
              "    })();\n",
              "  </script>\n",
              "</div>\n",
              "    </div>\n",
              "  </div>\n"
            ]
          },
          "metadata": {},
          "execution_count": 19
        }
      ]
    },
    {
      "cell_type": "code",
      "source": [
        "X"
      ],
      "metadata": {
        "colab": {
          "base_uri": "https://localhost:8080/",
          "height": 1178
        },
        "id": "Eu5pksr_R6cD",
        "outputId": "39b1a550-707d-4d5c-9710-c772130bb9e5"
      },
      "execution_count": 20,
      "outputs": [
        {
          "output_type": "execute_result",
          "data": {
            "text/plain": [
              "    studyweek  sleepnight  out  log_studyweek  log_sleepnight   log_out  \\\n",
              "4          25         7.0  3.0       1.397940        0.845098  0.477121   \n",
              "47         25         8.0  2.0       1.397940        0.903090  0.301030   \n",
              "27         14         9.0  3.0       1.146128        0.954243  0.477121   \n",
              "46         42         9.0  2.0       1.623249        0.954243  0.301030   \n",
              "45          3         7.0  2.0       0.477121        0.845098  0.301030   \n",
              "53         30         7.5  1.5       1.477121        0.875061  0.176091   \n",
              "15         14         6.5  3.0       1.146128        0.812913  0.477121   \n",
              "9           2         8.0  4.0       0.301030        0.903090  0.602060   \n",
              "16         12         7.5  3.5       1.079181        0.875061  0.544068   \n",
              "24         35         8.0  4.0       1.544068        0.903090  0.602060   \n",
              "30          8         6.5  2.0       0.903090        0.812913  0.301030   \n",
              "37         15         6.0  1.0       1.176091        0.778151  0.000000   \n",
              "25         10         8.0  3.0       1.000000        0.903090  0.477121   \n",
              "11         30         6.0  2.0       1.477121        0.778151  0.301030   \n",
              "0          50         6.0  3.0       1.698970        0.778151  0.477121   \n",
              "48         20         6.0  2.0       1.301030        0.778151  0.301030   \n",
              "36         18         7.0  1.5       1.255273        0.845098  0.176091   \n",
              "40         28         6.0  1.5       1.447158        0.778151  0.176091   \n",
              "1          15         6.0  1.0       1.176091        0.778151  0.000000   \n",
              "21         10         7.0  3.0       1.000000        0.845098  0.477121   \n",
              "2          15         7.0  1.0       1.176091        0.845098  0.000000   \n",
              "50          6         8.0  1.0       0.778151        0.903090  0.000000   \n",
              "39         11         7.0  1.5       1.041393        0.845098  0.176091   \n",
              "35         10         7.0  2.0       1.000000        0.845098  0.301030   \n",
              "23         13         6.0  3.5       1.113943        0.778151  0.544068   \n",
              "44         42         5.0  1.0       1.623249        0.698970  0.000000   \n",
              "10         10         8.0  1.0       1.000000        0.903090  0.000000   \n",
              "22         12         8.0  2.0       1.079181        0.903090  0.301030   \n",
              "18          4         9.0  3.0       0.602060        0.954243  0.477121   \n",
              "54         20         6.0  3.0       1.301030        0.778151  0.477121   \n",
              "20          6         7.0  2.5       0.778151        0.845098  0.397940   \n",
              "7          10         8.0  3.0       1.000000        0.903090  0.477121   \n",
              "42          4         5.0  1.0       0.602060        0.698970  0.000000   \n",
              "14         10         8.5  3.5       1.000000        0.929419  0.544068   \n",
              "51         20         7.0  3.0       1.301030        0.845098  0.477121   \n",
              "38         30         8.0  3.0       1.477121        0.903090  0.477121   \n",
              "\n",
              "    gender  \n",
              "4        0  \n",
              "47       1  \n",
              "27       0  \n",
              "46       1  \n",
              "45       1  \n",
              "53       0  \n",
              "15       1  \n",
              "9        1  \n",
              "16       1  \n",
              "24       0  \n",
              "30       0  \n",
              "37       0  \n",
              "25       0  \n",
              "11       0  \n",
              "0        0  \n",
              "48       0  \n",
              "36       0  \n",
              "40       0  \n",
              "1        0  \n",
              "21       0  \n",
              "2        0  \n",
              "50       0  \n",
              "39       0  \n",
              "35       0  \n",
              "23       0  \n",
              "44       0  \n",
              "10       0  \n",
              "22       1  \n",
              "18       0  \n",
              "54       0  \n",
              "20       0  \n",
              "7        0  \n",
              "42       1  \n",
              "14       0  \n",
              "51       0  \n",
              "38       1  "
            ],
            "text/html": [
              "\n",
              "  <div id=\"df-2ea8d0b6-a006-4ef2-a6e3-ae9691dee4ab\" class=\"colab-df-container\">\n",
              "    <div>\n",
              "<style scoped>\n",
              "    .dataframe tbody tr th:only-of-type {\n",
              "        vertical-align: middle;\n",
              "    }\n",
              "\n",
              "    .dataframe tbody tr th {\n",
              "        vertical-align: top;\n",
              "    }\n",
              "\n",
              "    .dataframe thead th {\n",
              "        text-align: right;\n",
              "    }\n",
              "</style>\n",
              "<table border=\"1\" class=\"dataframe\">\n",
              "  <thead>\n",
              "    <tr style=\"text-align: right;\">\n",
              "      <th></th>\n",
              "      <th>studyweek</th>\n",
              "      <th>sleepnight</th>\n",
              "      <th>out</th>\n",
              "      <th>log_studyweek</th>\n",
              "      <th>log_sleepnight</th>\n",
              "      <th>log_out</th>\n",
              "      <th>gender</th>\n",
              "    </tr>\n",
              "  </thead>\n",
              "  <tbody>\n",
              "    <tr>\n",
              "      <th>4</th>\n",
              "      <td>25</td>\n",
              "      <td>7.0</td>\n",
              "      <td>3.0</td>\n",
              "      <td>1.397940</td>\n",
              "      <td>0.845098</td>\n",
              "      <td>0.477121</td>\n",
              "      <td>0</td>\n",
              "    </tr>\n",
              "    <tr>\n",
              "      <th>47</th>\n",
              "      <td>25</td>\n",
              "      <td>8.0</td>\n",
              "      <td>2.0</td>\n",
              "      <td>1.397940</td>\n",
              "      <td>0.903090</td>\n",
              "      <td>0.301030</td>\n",
              "      <td>1</td>\n",
              "    </tr>\n",
              "    <tr>\n",
              "      <th>27</th>\n",
              "      <td>14</td>\n",
              "      <td>9.0</td>\n",
              "      <td>3.0</td>\n",
              "      <td>1.146128</td>\n",
              "      <td>0.954243</td>\n",
              "      <td>0.477121</td>\n",
              "      <td>0</td>\n",
              "    </tr>\n",
              "    <tr>\n",
              "      <th>46</th>\n",
              "      <td>42</td>\n",
              "      <td>9.0</td>\n",
              "      <td>2.0</td>\n",
              "      <td>1.623249</td>\n",
              "      <td>0.954243</td>\n",
              "      <td>0.301030</td>\n",
              "      <td>1</td>\n",
              "    </tr>\n",
              "    <tr>\n",
              "      <th>45</th>\n",
              "      <td>3</td>\n",
              "      <td>7.0</td>\n",
              "      <td>2.0</td>\n",
              "      <td>0.477121</td>\n",
              "      <td>0.845098</td>\n",
              "      <td>0.301030</td>\n",
              "      <td>1</td>\n",
              "    </tr>\n",
              "    <tr>\n",
              "      <th>53</th>\n",
              "      <td>30</td>\n",
              "      <td>7.5</td>\n",
              "      <td>1.5</td>\n",
              "      <td>1.477121</td>\n",
              "      <td>0.875061</td>\n",
              "      <td>0.176091</td>\n",
              "      <td>0</td>\n",
              "    </tr>\n",
              "    <tr>\n",
              "      <th>15</th>\n",
              "      <td>14</td>\n",
              "      <td>6.5</td>\n",
              "      <td>3.0</td>\n",
              "      <td>1.146128</td>\n",
              "      <td>0.812913</td>\n",
              "      <td>0.477121</td>\n",
              "      <td>1</td>\n",
              "    </tr>\n",
              "    <tr>\n",
              "      <th>9</th>\n",
              "      <td>2</td>\n",
              "      <td>8.0</td>\n",
              "      <td>4.0</td>\n",
              "      <td>0.301030</td>\n",
              "      <td>0.903090</td>\n",
              "      <td>0.602060</td>\n",
              "      <td>1</td>\n",
              "    </tr>\n",
              "    <tr>\n",
              "      <th>16</th>\n",
              "      <td>12</td>\n",
              "      <td>7.5</td>\n",
              "      <td>3.5</td>\n",
              "      <td>1.079181</td>\n",
              "      <td>0.875061</td>\n",
              "      <td>0.544068</td>\n",
              "      <td>1</td>\n",
              "    </tr>\n",
              "    <tr>\n",
              "      <th>24</th>\n",
              "      <td>35</td>\n",
              "      <td>8.0</td>\n",
              "      <td>4.0</td>\n",
              "      <td>1.544068</td>\n",
              "      <td>0.903090</td>\n",
              "      <td>0.602060</td>\n",
              "      <td>0</td>\n",
              "    </tr>\n",
              "    <tr>\n",
              "      <th>30</th>\n",
              "      <td>8</td>\n",
              "      <td>6.5</td>\n",
              "      <td>2.0</td>\n",
              "      <td>0.903090</td>\n",
              "      <td>0.812913</td>\n",
              "      <td>0.301030</td>\n",
              "      <td>0</td>\n",
              "    </tr>\n",
              "    <tr>\n",
              "      <th>37</th>\n",
              "      <td>15</td>\n",
              "      <td>6.0</td>\n",
              "      <td>1.0</td>\n",
              "      <td>1.176091</td>\n",
              "      <td>0.778151</td>\n",
              "      <td>0.000000</td>\n",
              "      <td>0</td>\n",
              "    </tr>\n",
              "    <tr>\n",
              "      <th>25</th>\n",
              "      <td>10</td>\n",
              "      <td>8.0</td>\n",
              "      <td>3.0</td>\n",
              "      <td>1.000000</td>\n",
              "      <td>0.903090</td>\n",
              "      <td>0.477121</td>\n",
              "      <td>0</td>\n",
              "    </tr>\n",
              "    <tr>\n",
              "      <th>11</th>\n",
              "      <td>30</td>\n",
              "      <td>6.0</td>\n",
              "      <td>2.0</td>\n",
              "      <td>1.477121</td>\n",
              "      <td>0.778151</td>\n",
              "      <td>0.301030</td>\n",
              "      <td>0</td>\n",
              "    </tr>\n",
              "    <tr>\n",
              "      <th>0</th>\n",
              "      <td>50</td>\n",
              "      <td>6.0</td>\n",
              "      <td>3.0</td>\n",
              "      <td>1.698970</td>\n",
              "      <td>0.778151</td>\n",
              "      <td>0.477121</td>\n",
              "      <td>0</td>\n",
              "    </tr>\n",
              "    <tr>\n",
              "      <th>48</th>\n",
              "      <td>20</td>\n",
              "      <td>6.0</td>\n",
              "      <td>2.0</td>\n",
              "      <td>1.301030</td>\n",
              "      <td>0.778151</td>\n",
              "      <td>0.301030</td>\n",
              "      <td>0</td>\n",
              "    </tr>\n",
              "    <tr>\n",
              "      <th>36</th>\n",
              "      <td>18</td>\n",
              "      <td>7.0</td>\n",
              "      <td>1.5</td>\n",
              "      <td>1.255273</td>\n",
              "      <td>0.845098</td>\n",
              "      <td>0.176091</td>\n",
              "      <td>0</td>\n",
              "    </tr>\n",
              "    <tr>\n",
              "      <th>40</th>\n",
              "      <td>28</td>\n",
              "      <td>6.0</td>\n",
              "      <td>1.5</td>\n",
              "      <td>1.447158</td>\n",
              "      <td>0.778151</td>\n",
              "      <td>0.176091</td>\n",
              "      <td>0</td>\n",
              "    </tr>\n",
              "    <tr>\n",
              "      <th>1</th>\n",
              "      <td>15</td>\n",
              "      <td>6.0</td>\n",
              "      <td>1.0</td>\n",
              "      <td>1.176091</td>\n",
              "      <td>0.778151</td>\n",
              "      <td>0.000000</td>\n",
              "      <td>0</td>\n",
              "    </tr>\n",
              "    <tr>\n",
              "      <th>21</th>\n",
              "      <td>10</td>\n",
              "      <td>7.0</td>\n",
              "      <td>3.0</td>\n",
              "      <td>1.000000</td>\n",
              "      <td>0.845098</td>\n",
              "      <td>0.477121</td>\n",
              "      <td>0</td>\n",
              "    </tr>\n",
              "    <tr>\n",
              "      <th>2</th>\n",
              "      <td>15</td>\n",
              "      <td>7.0</td>\n",
              "      <td>1.0</td>\n",
              "      <td>1.176091</td>\n",
              "      <td>0.845098</td>\n",
              "      <td>0.000000</td>\n",
              "      <td>0</td>\n",
              "    </tr>\n",
              "    <tr>\n",
              "      <th>50</th>\n",
              "      <td>6</td>\n",
              "      <td>8.0</td>\n",
              "      <td>1.0</td>\n",
              "      <td>0.778151</td>\n",
              "      <td>0.903090</td>\n",
              "      <td>0.000000</td>\n",
              "      <td>0</td>\n",
              "    </tr>\n",
              "    <tr>\n",
              "      <th>39</th>\n",
              "      <td>11</td>\n",
              "      <td>7.0</td>\n",
              "      <td>1.5</td>\n",
              "      <td>1.041393</td>\n",
              "      <td>0.845098</td>\n",
              "      <td>0.176091</td>\n",
              "      <td>0</td>\n",
              "    </tr>\n",
              "    <tr>\n",
              "      <th>35</th>\n",
              "      <td>10</td>\n",
              "      <td>7.0</td>\n",
              "      <td>2.0</td>\n",
              "      <td>1.000000</td>\n",
              "      <td>0.845098</td>\n",
              "      <td>0.301030</td>\n",
              "      <td>0</td>\n",
              "    </tr>\n",
              "    <tr>\n",
              "      <th>23</th>\n",
              "      <td>13</td>\n",
              "      <td>6.0</td>\n",
              "      <td>3.5</td>\n",
              "      <td>1.113943</td>\n",
              "      <td>0.778151</td>\n",
              "      <td>0.544068</td>\n",
              "      <td>0</td>\n",
              "    </tr>\n",
              "    <tr>\n",
              "      <th>44</th>\n",
              "      <td>42</td>\n",
              "      <td>5.0</td>\n",
              "      <td>1.0</td>\n",
              "      <td>1.623249</td>\n",
              "      <td>0.698970</td>\n",
              "      <td>0.000000</td>\n",
              "      <td>0</td>\n",
              "    </tr>\n",
              "    <tr>\n",
              "      <th>10</th>\n",
              "      <td>10</td>\n",
              "      <td>8.0</td>\n",
              "      <td>1.0</td>\n",
              "      <td>1.000000</td>\n",
              "      <td>0.903090</td>\n",
              "      <td>0.000000</td>\n",
              "      <td>0</td>\n",
              "    </tr>\n",
              "    <tr>\n",
              "      <th>22</th>\n",
              "      <td>12</td>\n",
              "      <td>8.0</td>\n",
              "      <td>2.0</td>\n",
              "      <td>1.079181</td>\n",
              "      <td>0.903090</td>\n",
              "      <td>0.301030</td>\n",
              "      <td>1</td>\n",
              "    </tr>\n",
              "    <tr>\n",
              "      <th>18</th>\n",
              "      <td>4</td>\n",
              "      <td>9.0</td>\n",
              "      <td>3.0</td>\n",
              "      <td>0.602060</td>\n",
              "      <td>0.954243</td>\n",
              "      <td>0.477121</td>\n",
              "      <td>0</td>\n",
              "    </tr>\n",
              "    <tr>\n",
              "      <th>54</th>\n",
              "      <td>20</td>\n",
              "      <td>6.0</td>\n",
              "      <td>3.0</td>\n",
              "      <td>1.301030</td>\n",
              "      <td>0.778151</td>\n",
              "      <td>0.477121</td>\n",
              "      <td>0</td>\n",
              "    </tr>\n",
              "    <tr>\n",
              "      <th>20</th>\n",
              "      <td>6</td>\n",
              "      <td>7.0</td>\n",
              "      <td>2.5</td>\n",
              "      <td>0.778151</td>\n",
              "      <td>0.845098</td>\n",
              "      <td>0.397940</td>\n",
              "      <td>0</td>\n",
              "    </tr>\n",
              "    <tr>\n",
              "      <th>7</th>\n",
              "      <td>10</td>\n",
              "      <td>8.0</td>\n",
              "      <td>3.0</td>\n",
              "      <td>1.000000</td>\n",
              "      <td>0.903090</td>\n",
              "      <td>0.477121</td>\n",
              "      <td>0</td>\n",
              "    </tr>\n",
              "    <tr>\n",
              "      <th>42</th>\n",
              "      <td>4</td>\n",
              "      <td>5.0</td>\n",
              "      <td>1.0</td>\n",
              "      <td>0.602060</td>\n",
              "      <td>0.698970</td>\n",
              "      <td>0.000000</td>\n",
              "      <td>1</td>\n",
              "    </tr>\n",
              "    <tr>\n",
              "      <th>14</th>\n",
              "      <td>10</td>\n",
              "      <td>8.5</td>\n",
              "      <td>3.5</td>\n",
              "      <td>1.000000</td>\n",
              "      <td>0.929419</td>\n",
              "      <td>0.544068</td>\n",
              "      <td>0</td>\n",
              "    </tr>\n",
              "    <tr>\n",
              "      <th>51</th>\n",
              "      <td>20</td>\n",
              "      <td>7.0</td>\n",
              "      <td>3.0</td>\n",
              "      <td>1.301030</td>\n",
              "      <td>0.845098</td>\n",
              "      <td>0.477121</td>\n",
              "      <td>0</td>\n",
              "    </tr>\n",
              "    <tr>\n",
              "      <th>38</th>\n",
              "      <td>30</td>\n",
              "      <td>8.0</td>\n",
              "      <td>3.0</td>\n",
              "      <td>1.477121</td>\n",
              "      <td>0.903090</td>\n",
              "      <td>0.477121</td>\n",
              "      <td>1</td>\n",
              "    </tr>\n",
              "  </tbody>\n",
              "</table>\n",
              "</div>\n",
              "    <div class=\"colab-df-buttons\">\n",
              "\n",
              "  <div class=\"colab-df-container\">\n",
              "    <button class=\"colab-df-convert\" onclick=\"convertToInteractive('df-2ea8d0b6-a006-4ef2-a6e3-ae9691dee4ab')\"\n",
              "            title=\"Convert this dataframe to an interactive table.\"\n",
              "            style=\"display:none;\">\n",
              "\n",
              "  <svg xmlns=\"http://www.w3.org/2000/svg\" height=\"24px\" viewBox=\"0 -960 960 960\">\n",
              "    <path d=\"M120-120v-720h720v720H120Zm60-500h600v-160H180v160Zm220 220h160v-160H400v160Zm0 220h160v-160H400v160ZM180-400h160v-160H180v160Zm440 0h160v-160H620v160ZM180-180h160v-160H180v160Zm440 0h160v-160H620v160Z\"/>\n",
              "  </svg>\n",
              "    </button>\n",
              "\n",
              "  <style>\n",
              "    .colab-df-container {\n",
              "      display:flex;\n",
              "      gap: 12px;\n",
              "    }\n",
              "\n",
              "    .colab-df-convert {\n",
              "      background-color: #E8F0FE;\n",
              "      border: none;\n",
              "      border-radius: 50%;\n",
              "      cursor: pointer;\n",
              "      display: none;\n",
              "      fill: #1967D2;\n",
              "      height: 32px;\n",
              "      padding: 0 0 0 0;\n",
              "      width: 32px;\n",
              "    }\n",
              "\n",
              "    .colab-df-convert:hover {\n",
              "      background-color: #E2EBFA;\n",
              "      box-shadow: 0px 1px 2px rgba(60, 64, 67, 0.3), 0px 1px 3px 1px rgba(60, 64, 67, 0.15);\n",
              "      fill: #174EA6;\n",
              "    }\n",
              "\n",
              "    .colab-df-buttons div {\n",
              "      margin-bottom: 4px;\n",
              "    }\n",
              "\n",
              "    [theme=dark] .colab-df-convert {\n",
              "      background-color: #3B4455;\n",
              "      fill: #D2E3FC;\n",
              "    }\n",
              "\n",
              "    [theme=dark] .colab-df-convert:hover {\n",
              "      background-color: #434B5C;\n",
              "      box-shadow: 0px 1px 3px 1px rgba(0, 0, 0, 0.15);\n",
              "      filter: drop-shadow(0px 1px 2px rgba(0, 0, 0, 0.3));\n",
              "      fill: #FFFFFF;\n",
              "    }\n",
              "  </style>\n",
              "\n",
              "    <script>\n",
              "      const buttonEl =\n",
              "        document.querySelector('#df-2ea8d0b6-a006-4ef2-a6e3-ae9691dee4ab button.colab-df-convert');\n",
              "      buttonEl.style.display =\n",
              "        google.colab.kernel.accessAllowed ? 'block' : 'none';\n",
              "\n",
              "      async function convertToInteractive(key) {\n",
              "        const element = document.querySelector('#df-2ea8d0b6-a006-4ef2-a6e3-ae9691dee4ab');\n",
              "        const dataTable =\n",
              "          await google.colab.kernel.invokeFunction('convertToInteractive',\n",
              "                                                    [key], {});\n",
              "        if (!dataTable) return;\n",
              "\n",
              "        const docLinkHtml = 'Like what you see? Visit the ' +\n",
              "          '<a target=\"_blank\" href=https://colab.research.google.com/notebooks/data_table.ipynb>data table notebook</a>'\n",
              "          + ' to learn more about interactive tables.';\n",
              "        element.innerHTML = '';\n",
              "        dataTable['output_type'] = 'display_data';\n",
              "        await google.colab.output.renderOutput(dataTable, element);\n",
              "        const docLink = document.createElement('div');\n",
              "        docLink.innerHTML = docLinkHtml;\n",
              "        element.appendChild(docLink);\n",
              "      }\n",
              "    </script>\n",
              "  </div>\n",
              "\n",
              "\n",
              "<div id=\"df-42bc4c37-f731-4a97-a8d9-aabc80f79d69\">\n",
              "  <button class=\"colab-df-quickchart\" onclick=\"quickchart('df-42bc4c37-f731-4a97-a8d9-aabc80f79d69')\"\n",
              "            title=\"Suggest charts\"\n",
              "            style=\"display:none;\">\n",
              "\n",
              "<svg xmlns=\"http://www.w3.org/2000/svg\" height=\"24px\"viewBox=\"0 0 24 24\"\n",
              "     width=\"24px\">\n",
              "    <g>\n",
              "        <path d=\"M19 3H5c-1.1 0-2 .9-2 2v14c0 1.1.9 2 2 2h14c1.1 0 2-.9 2-2V5c0-1.1-.9-2-2-2zM9 17H7v-7h2v7zm4 0h-2V7h2v10zm4 0h-2v-4h2v4z\"/>\n",
              "    </g>\n",
              "</svg>\n",
              "  </button>\n",
              "\n",
              "<style>\n",
              "  .colab-df-quickchart {\n",
              "      --bg-color: #E8F0FE;\n",
              "      --fill-color: #1967D2;\n",
              "      --hover-bg-color: #E2EBFA;\n",
              "      --hover-fill-color: #174EA6;\n",
              "      --disabled-fill-color: #AAA;\n",
              "      --disabled-bg-color: #DDD;\n",
              "  }\n",
              "\n",
              "  [theme=dark] .colab-df-quickchart {\n",
              "      --bg-color: #3B4455;\n",
              "      --fill-color: #D2E3FC;\n",
              "      --hover-bg-color: #434B5C;\n",
              "      --hover-fill-color: #FFFFFF;\n",
              "      --disabled-bg-color: #3B4455;\n",
              "      --disabled-fill-color: #666;\n",
              "  }\n",
              "\n",
              "  .colab-df-quickchart {\n",
              "    background-color: var(--bg-color);\n",
              "    border: none;\n",
              "    border-radius: 50%;\n",
              "    cursor: pointer;\n",
              "    display: none;\n",
              "    fill: var(--fill-color);\n",
              "    height: 32px;\n",
              "    padding: 0;\n",
              "    width: 32px;\n",
              "  }\n",
              "\n",
              "  .colab-df-quickchart:hover {\n",
              "    background-color: var(--hover-bg-color);\n",
              "    box-shadow: 0 1px 2px rgba(60, 64, 67, 0.3), 0 1px 3px 1px rgba(60, 64, 67, 0.15);\n",
              "    fill: var(--button-hover-fill-color);\n",
              "  }\n",
              "\n",
              "  .colab-df-quickchart-complete:disabled,\n",
              "  .colab-df-quickchart-complete:disabled:hover {\n",
              "    background-color: var(--disabled-bg-color);\n",
              "    fill: var(--disabled-fill-color);\n",
              "    box-shadow: none;\n",
              "  }\n",
              "\n",
              "  .colab-df-spinner {\n",
              "    border: 2px solid var(--fill-color);\n",
              "    border-color: transparent;\n",
              "    border-bottom-color: var(--fill-color);\n",
              "    animation:\n",
              "      spin 1s steps(1) infinite;\n",
              "  }\n",
              "\n",
              "  @keyframes spin {\n",
              "    0% {\n",
              "      border-color: transparent;\n",
              "      border-bottom-color: var(--fill-color);\n",
              "      border-left-color: var(--fill-color);\n",
              "    }\n",
              "    20% {\n",
              "      border-color: transparent;\n",
              "      border-left-color: var(--fill-color);\n",
              "      border-top-color: var(--fill-color);\n",
              "    }\n",
              "    30% {\n",
              "      border-color: transparent;\n",
              "      border-left-color: var(--fill-color);\n",
              "      border-top-color: var(--fill-color);\n",
              "      border-right-color: var(--fill-color);\n",
              "    }\n",
              "    40% {\n",
              "      border-color: transparent;\n",
              "      border-right-color: var(--fill-color);\n",
              "      border-top-color: var(--fill-color);\n",
              "    }\n",
              "    60% {\n",
              "      border-color: transparent;\n",
              "      border-right-color: var(--fill-color);\n",
              "    }\n",
              "    80% {\n",
              "      border-color: transparent;\n",
              "      border-right-color: var(--fill-color);\n",
              "      border-bottom-color: var(--fill-color);\n",
              "    }\n",
              "    90% {\n",
              "      border-color: transparent;\n",
              "      border-bottom-color: var(--fill-color);\n",
              "    }\n",
              "  }\n",
              "</style>\n",
              "\n",
              "  <script>\n",
              "    async function quickchart(key) {\n",
              "      const quickchartButtonEl =\n",
              "        document.querySelector('#' + key + ' button');\n",
              "      quickchartButtonEl.disabled = true;  // To prevent multiple clicks.\n",
              "      quickchartButtonEl.classList.add('colab-df-spinner');\n",
              "      try {\n",
              "        const charts = await google.colab.kernel.invokeFunction(\n",
              "            'suggestCharts', [key], {});\n",
              "      } catch (error) {\n",
              "        console.error('Error during call to suggestCharts:', error);\n",
              "      }\n",
              "      quickchartButtonEl.classList.remove('colab-df-spinner');\n",
              "      quickchartButtonEl.classList.add('colab-df-quickchart-complete');\n",
              "    }\n",
              "    (() => {\n",
              "      let quickchartButtonEl =\n",
              "        document.querySelector('#df-42bc4c37-f731-4a97-a8d9-aabc80f79d69 button');\n",
              "      quickchartButtonEl.style.display =\n",
              "        google.colab.kernel.accessAllowed ? 'block' : 'none';\n",
              "    })();\n",
              "  </script>\n",
              "</div>\n",
              "    </div>\n",
              "  </div>\n"
            ]
          },
          "metadata": {},
          "execution_count": 20
        }
      ]
    },
    {
      "cell_type": "markdown",
      "source": [
        "The below Machine Learning Models will be used to test various parameters to ensure the most accurate model is chosen."
      ],
      "metadata": {
        "id": "ePCQux5WpmQM"
      }
    },
    {
      "cell_type": "code",
      "source": [
        "# Function to calculate mean absolute error\n",
        "def mae(y_true, y_pred):\n",
        "    return np.mean(abs(y_true - y_pred))\n",
        "\n",
        "# Takes in a model, trains the model, and evaluates the model on the test set\n",
        "def fit_and_evaluate(model):\n",
        "\n",
        "    # Train the model\n",
        "    model.fit(X, y)\n",
        "\n",
        "    # Make predictions and evalute\n",
        "    model_pred = model.predict(X_test)\n",
        "    model_mae = mae(y_test, model_pred)\n",
        "\n",
        "    # Return the performance metric\n",
        "    return model_mae\n",
        "\n",
        "\n"
      ],
      "metadata": {
        "id": "xdui2NMeB7bb"
      },
      "execution_count": 21,
      "outputs": []
    },
    {
      "cell_type": "code",
      "source": [
        "lr = LinearRegression()\n",
        "lr_mae = fit_and_evaluate(lr)\n",
        "\n",
        "print('Linear Regression Performance on the test set: MAE = %0.4f' % lr_mae)"
      ],
      "metadata": {
        "colab": {
          "base_uri": "https://localhost:8080/",
          "height": 0
        },
        "id": "u9YMr20wB9Q6",
        "outputId": "665d9cef-ff73-4d4f-9290-fb65edafdfdf"
      },
      "execution_count": 22,
      "outputs": [
        {
          "output_type": "stream",
          "name": "stdout",
          "text": [
            "Linear Regression Performance on the test set: MAE = 0.3292\n"
          ]
        }
      ]
    },
    {
      "cell_type": "code",
      "source": [
        "from sklearn.ensemble import GradientBoostingRegressor\n",
        "\n",
        "# Create the model\n",
        "gradient_boosted = GradientBoostingRegressor()\n",
        "\n",
        "# Fit the model on the training data\n",
        "gradient_boosted.fit(X, y)\n",
        "\n",
        "# Make predictions on the test data\n",
        "predictions = gradient_boosted.predict(X_test)\n",
        "\n",
        "# Evaluate the model\n",
        "mae1 = np.mean(abs(predictions - y_test))\n",
        "\n",
        "print('Gradient Boosted Performance on the test set: MAE = %0.4f' % mae1)"
      ],
      "metadata": {
        "id": "orlvUR3oB-wr",
        "colab": {
          "base_uri": "https://localhost:8080/",
          "height": 0
        },
        "outputId": "7b649353-e83e-4e9d-e0d4-a272c9eb75aa"
      },
      "execution_count": 23,
      "outputs": [
        {
          "output_type": "stream",
          "name": "stdout",
          "text": [
            "Gradient Boosted Performance on the test set: MAE = 0.3594\n"
          ]
        }
      ]
    },
    {
      "cell_type": "code",
      "source": [
        "svm = SVR(C = 1000, gamma = 0.1)\n",
        "svm_mae = fit_and_evaluate(svm)\n",
        "\n",
        "print('Support Vector Machine Regression Performance on the test set: MAE = %0.4f' % svm_mae)"
      ],
      "metadata": {
        "colab": {
          "base_uri": "https://localhost:8080/",
          "height": 0
        },
        "id": "YHKSLg3SaC1g",
        "outputId": "608d7a87-bcaf-4b45-d542-780c492002f9"
      },
      "execution_count": 24,
      "outputs": [
        {
          "output_type": "stream",
          "name": "stdout",
          "text": [
            "Support Vector Machine Regression Performance on the test set: MAE = 0.2574\n"
          ]
        }
      ]
    },
    {
      "cell_type": "code",
      "source": [
        "random_forest = RandomForestRegressor(random_state=60)\n",
        "random_forest_mae = fit_and_evaluate(random_forest)\n",
        "\n",
        "print('Random Forest Regression Performance on the test set: MAE = %0.4f' % random_forest_mae)"
      ],
      "metadata": {
        "colab": {
          "base_uri": "https://localhost:8080/",
          "height": 0
        },
        "id": "_rNBktbAkrlq",
        "outputId": "2d25af72-8dea-4cc5-e4ac-a9f6ece5eaf9"
      },
      "execution_count": 25,
      "outputs": [
        {
          "output_type": "stream",
          "name": "stdout",
          "text": [
            "Random Forest Regression Performance on the test set: MAE = 0.3152\n"
          ]
        }
      ]
    },
    {
      "cell_type": "code",
      "source": [
        "gradient_boosted = GradientBoostingRegressor(random_state=60)\n",
        "gradient_boosted_mae = fit_and_evaluate(gradient_boosted)\n",
        "\n",
        "print('Gradient Boosted Regression Performance on the test set: MAE = %0.4f' % gradient_boosted_mae)"
      ],
      "metadata": {
        "colab": {
          "base_uri": "https://localhost:8080/",
          "height": 0
        },
        "id": "T6I8MCscaGgx",
        "outputId": "11f8fa38-5120-43f8-e6b1-72c91f0f617b"
      },
      "execution_count": 26,
      "outputs": [
        {
          "output_type": "stream",
          "name": "stdout",
          "text": [
            "Gradient Boosted Regression Performance on the test set: MAE = 0.3572\n"
          ]
        }
      ]
    },
    {
      "cell_type": "code",
      "source": [
        "knn = KNeighborsRegressor(n_neighbors=10)\n",
        "knn_mae = fit_and_evaluate(knn)\n",
        "\n",
        "print('K-Nearest Neighbors Regression Performance on the test set: MAE = %0.4f' % knn_mae)"
      ],
      "metadata": {
        "colab": {
          "base_uri": "https://localhost:8080/",
          "height": 0
        },
        "id": "eAxtR2muaJhk",
        "outputId": "35e45e26-6ec6-4ae9-fa4e-cbd8e9d725ed"
      },
      "execution_count": 27,
      "outputs": [
        {
          "output_type": "stream",
          "name": "stdout",
          "text": [
            "K-Nearest Neighbors Regression Performance on the test set: MAE = 0.2223\n"
          ]
        }
      ]
    },
    {
      "cell_type": "code",
      "source": [
        "\n",
        "\n",
        "# Dataframe to hold the results\n",
        "model_comparison = pd.DataFrame({'model': ['Linear Regression', 'Support Vector Machine',\n",
        "                                           'Random Forest', 'Gradient Boosted',\n",
        "                                            'K-Nearest Neighbors'],\n",
        "                                 'mae': [lr_mae, svm_mae, random_forest_mae,\n",
        "                                         gradient_boosted_mae, knn_mae]})\n",
        "\n",
        "# Horizontal bar chart of test mae\n",
        "model_comparison.sort_values('mae', ascending = False).plot(x = 'model', y = 'mae', kind = 'barh',\n",
        "                                                           color = 'blue', edgecolor = 'white')\n",
        "\n",
        "# Plot formatting\n",
        "plt.ylabel(''); plt.yticks(size = 14); plt.xlabel('Mean Absolute Error'); plt.xticks(size = 14)\n",
        "plt.title('Model Comparison on Test MAE', size = 20);"
      ],
      "metadata": {
        "colab": {
          "base_uri": "https://localhost:8080/",
          "height": 485
        },
        "id": "Z-sK33M8aMb3",
        "outputId": "b18601ac-fa7a-42db-ffe1-0a7ca1fe9f09"
      },
      "execution_count": 28,
      "outputs": [
        {
          "output_type": "display_data",
          "data": {
            "text/plain": [
              "<Figure size 640x480 with 1 Axes>"
            ],
            "image/png": "[encoded data removed]"
          },
          "metadata": {}
        }
      ]
    },
    {
      "cell_type": "markdown",
      "source": [
        "The above comparison represents the Mean Absolute Error calculations using the tested Machine Leaning Models. This index represents the difference (or loss) between the calculated and actual values. The lower the number the less error (or loss) the model demonstrates. In our case, the K-Nearest Neighbors model has the lowest error.\n",
        "\n",
        "There are optimizers within each machine learning model that can be untilized, however for the purpose of this study, it will be determined on the above calucations.\n"
      ],
      "metadata": {
        "id": "hxeC45hPbtRg"
      }
    }
  ]
}